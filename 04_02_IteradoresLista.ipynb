{
 "cells": [
  {
   "cell_type": "code",
   "execution_count": 2,
   "metadata": {},
   "outputs": [
    {
     "name": "stdout",
     "output_type": "stream",
     "text": [
      "3\n",
      "-1\n"
     ]
    }
   ],
   "source": [
    "def busqueda_con_index(lista, e):\n",
    "    '''Busca un elemento e en la lista.\n",
    "\n",
    "    Si e está en lista devuelve el índice,\n",
    "    de lo contrario devuelve -1.\n",
    "    '''\n",
    "    if e in lista:\n",
    "        pos = lista.index(e)\n",
    "    else:\n",
    "        pos = -1\n",
    "    return pos\n",
    "\n",
    "print(busqueda_con_index([1, 4, 54, 3, 0, -1], 3))\n",
    "print(busqueda_con_index([1, 4, 54, 3, 0, -1], 44))  \n",
    "  "
   ]
  },
  {
   "cell_type": "code",
   "execution_count": null,
   "metadata": {},
   "outputs": [],
   "source": []
  }
 ],
 "metadata": {
  "kernelspec": {
   "display_name": "Python 3.10.8 64-bit",
   "language": "python",
   "name": "python3"
  },
  "language_info": {
   "codemirror_mode": {
    "name": "ipython",
    "version": 3
   },
   "file_extension": ".py",
   "mimetype": "text/x-python",
   "name": "python",
   "nbconvert_exporter": "python",
   "pygments_lexer": "ipython3",
   "version": "3.10.8"
  },
  "orig_nbformat": 4,
  "vscode": {
   "interpreter": {
    "hash": "e7370f93d1d0cde622a1f8e1c04877d8463912d04d973331ad4851f04de6915a"
   }
  }
 },
 "nbformat": 4,
 "nbformat_minor": 2
}
