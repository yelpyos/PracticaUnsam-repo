{
 "cells": [
  {
   "cell_type": "code",
   "execution_count": 2,
   "metadata": {},
   "outputs": [
    {
     "name": "stdout",
     "output_type": "stream",
     "text": [
      "3\n",
      "-1\n"
     ]
    }
   ],
   "source": [
    "def busqueda_con_index(lista, e):\n",
    "    '''Busca un elemento e en la lista.\n",
    "\n",
    "    Si e está en lista devuelve el índice,\n",
    "    de lo contrario devuelve -1.\n",
    "    '''\n",
    "    if e in lista:\n",
    "        pos = lista.index(e)\n",
    "    else:\n",
    "        pos = -1\n",
    "    return pos\n",
    "\n",
    "print(busqueda_con_index([1, 4, 54, 3, 0, -1], 3))\n",
    "print(busqueda_con_index([1, 4, 54, 3, 0, -1], 44))  \n",
    "  "
   ]
  },
  {
   "cell_type": "code",
   "execution_count": 3,
   "metadata": {},
   "outputs": [
    {
     "name": "stdout",
     "output_type": "stream",
     "text": [
      "-1\n"
     ]
    }
   ],
   "source": [
    "def busqueda_lineal(lista, e):\n",
    "    '''Si e está en la lista devuelve su posición, de lo\n",
    "    contrario devuelve -1.\n",
    "    '''\n",
    "    pos = -1  # comenzamos suponiendo que e no está\n",
    "    for i, z in enumerate(lista): # recorremos la lista\n",
    "        if z == e:   # si encontramos a e\n",
    "            pos = i  # guardamos su posición\n",
    "            break    # y salimos del ciclo\n",
    "    return pos\n",
    "\n",
    "print(busqueda_lineal([1, 4, 54, 3, 0, -1], 44))"
   ]
  },
  {
   "cell_type": "code",
   "execution_count": 19,
   "metadata": {},
   "outputs": [
    {
     "name": "stdout",
     "output_type": "stream",
     "text": [
      "4\n"
     ]
    }
   ],
   "source": [
    "# Ex 4.3\n",
    "\n",
    "def buscar_u_elemento(lista, e):\n",
    "    pos = -1\n",
    "    for i in reversed(range(len(lista))):\n",
    "        if lista[i] == e:\n",
    "            pos = i\n",
    "            break\n",
    "        #print(i)\n",
    "    return pos\n",
    "\n",
    "print(buscar_u_elemento([1, 3, 54, 3, 1, -1], 1))\n",
    "        "
   ]
  },
  {
   "cell_type": "code",
   "execution_count": 35,
   "metadata": {},
   "outputs": [
    {
     "name": "stdout",
     "output_type": "stream",
     "text": [
      "1\n"
     ]
    }
   ],
   "source": [
    "def buscar_n_elemento(lista, e):\n",
    "    t = 0\n",
    "    for i in range(len(lista)):\n",
    "        if lista[i] == e:\n",
    "            t += 1\n",
    "            #break     \n",
    "    return t\n",
    "\n",
    "print(buscar_n_elemento([1, 4, 3, 6, 43, 2], 3))"
   ]
  },
  {
   "cell_type": "code",
   "execution_count": 17,
   "metadata": {},
   "outputs": [
    {
     "name": "stdout",
     "output_type": "stream",
     "text": [
      "7\n",
      "4\n",
      "4\n",
      "-4\n",
      "-5\n"
     ]
    }
   ],
   "source": [
    "# Ex 4.4\n",
    "\n",
    "from numpy import append\n",
    "\n",
    "\n",
    "def maximo(lista):\n",
    "    '''Devuelve el máximo de una lista, \n",
    "    la lista debe ser no vacía y de números positivos.\n",
    "    '''\n",
    "    # m guarda el máximo de los elementos a medida que recorro la lista.\n",
    "    t = 0 \n",
    "    # m = 0 # Lo inicializo en 0\n",
    "    for e in lista: # Recorro la lista y voy guardando el mayor\n",
    "        #i = 0\n",
    "        for i in lista:\n",
    "            if i > e:\n",
    "                m = i\n",
    "        # if lista[e] < lista[e+1]:\n",
    "        #for v in lista:\n",
    "        #    if v < e:\n",
    "        #        t = v me falto con el minimo\n",
    "            \n",
    "    return (m) # ,t)\n",
    "\n",
    "\n",
    "print(maximo([1,2,7,2,3,4]))\n",
    "print(maximo([1,2,3,4]))\n",
    "print(maximo([-5,4])) \n",
    "print(maximo([-5,-4]))\n",
    "print(min([-5,-4]))\n"
   ]
  },
  {
   "cell_type": "code",
   "execution_count": 23,
   "metadata": {},
   "outputs": [
    {
     "ename": "TypeError",
     "evalue": "'list' object cannot be interpreted as an integer",
     "output_type": "error",
     "traceback": [
      "\u001b[0;31m---------------------------------------------------------------------------\u001b[0m",
      "\u001b[0;31mTypeError\u001b[0m                                 Traceback (most recent call last)",
      "Cell \u001b[0;32mIn [23], line 14\u001b[0m\n\u001b[1;32m      9\u001b[0m             \u001b[39m#agrego el elemento e al principio de la lista invertida\u001b[39;00m\n\u001b[1;32m     10\u001b[0m     \u001b[39mreturn\u001b[39;00m invertida\n\u001b[0;32m---> 14\u001b[0m \u001b[39mprint\u001b[39m(invertir_lista([\u001b[39m1\u001b[39;49m, \u001b[39m2\u001b[39;49m, \u001b[39m3\u001b[39;49m, \u001b[39m4\u001b[39;49m, \u001b[39m5\u001b[39;49m]))\n\u001b[1;32m     15\u001b[0m \u001b[39mprint\u001b[39m(invertir_lista([\u001b[39m'\u001b[39m\u001b[39mBogotá\u001b[39m\u001b[39m'\u001b[39m, \u001b[39m'\u001b[39m\u001b[39mRosario\u001b[39m\u001b[39m'\u001b[39m, \u001b[39m'\u001b[39m\u001b[39mSantiago\u001b[39m\u001b[39m'\u001b[39m, \u001b[39m'\u001b[39m\u001b[39mSan Fernando\u001b[39m\u001b[39m'\u001b[39m, \u001b[39m'\u001b[39m\u001b[39mSan Miguel\u001b[39m\u001b[39m'\u001b[39m]))\n",
      "Cell \u001b[0;32mIn [23], line 7\u001b[0m, in \u001b[0;36minvertir_lista\u001b[0;34m(lista)\u001b[0m\n\u001b[1;32m      4\u001b[0m invertida \u001b[39m=\u001b[39m []\n\u001b[1;32m      5\u001b[0m \u001b[39mfor\u001b[39;00m e \u001b[39min\u001b[39;00m lista: \u001b[39m# Recorro la lista\u001b[39;00m\n\u001b[1;32m      6\u001b[0m     \u001b[39m#for i in invertida:\u001b[39;00m\n\u001b[0;32m----> 7\u001b[0m         lista[e] \u001b[39m=\u001b[39m invertida[\u001b[39mlen\u001b[39m(\u001b[39mrange\u001b[39;49m(invertida)) \u001b[39m-\u001b[39m e]\n\u001b[1;32m      9\u001b[0m         \u001b[39m#agrego el elemento e al principio de la lista invertida\u001b[39;00m\n\u001b[1;32m     10\u001b[0m \u001b[39mreturn\u001b[39;00m invertida\n",
      "\u001b[0;31mTypeError\u001b[0m: 'list' object cannot be interpreted as an integer"
     ]
    }
   ],
   "source": [
    "# Ex 4.5\n",
    "\n",
    "from pygments import highlight\n",
    "\n",
    "\n",
    "def invertir_lista(lista):\n",
    "    invertida = []\n",
    "    for e in lista: # Recorro la lista\n",
    "        #for i in invertida:\n",
    "        \n",
    "                    \n",
    "        \n",
    "        \n",
    "            lista[e] = invertida[len(inv)]\n",
    "            \n",
    "            #agrego el elemento e al principio de la lista invertida\n",
    "            \n",
    "            # chequear cosas basicas con codigo en C\n",
    "    return invertida\n",
    "\n",
    "\n",
    "\n",
    "print(invertir_lista([1, 2, 3, 4, 5]))\n",
    "print(invertir_lista(['Bogotá', 'Rosario', 'Santiago', 'San Fernando', 'San Miguel']))"
   ]
  },
  {
   "cell_type": "code",
   "execution_count": 3,
   "metadata": {},
   "outputs": [
    {
     "name": "stdout",
     "output_type": "stream",
     "text": [
      "[0, 0, 0, -1, 1, 0, 0, 0, -1, 0, 1, 0, 0]\n",
      "[0, 0, 0, 1, 0, 0]\n"
     ]
    }
   ],
   "source": [
    "# 4.6\n",
    "\n",
    "def propagar(lista):\n",
    "    \n",
    "    \"\"\"\n",
    "    Purpose: fosf prendido (1) toca apagado (0) y lo prende. Los carbonizados (-1), quedan asi y frenan el prendido.\n",
    "        \n",
    "    \"\"\"\n",
    "        \n",
    "    for i in lista:\n",
    "        \n",
    "        if lista[i+1] == -1 and lista[i-1] == -1:\n",
    "            pass # tengo que meter muchos elifs y ors\n",
    "                   \n",
    "        elif lista[i+1] == 1 or lista[i-1] == 1:\n",
    "            lista[i] = 1\n",
    "            \n",
    "        #elif lista[]\n",
    "        \n",
    "        # son un monton de \n",
    "        \n",
    "    return lista\n",
    "\n",
    "    \n",
    "       \n",
    "# end def\n",
    "\n",
    "\n",
    "\n",
    "\n",
    "\n",
    "\n",
    "print(propagar([ 0, 0, 0,-1, 1, 0, 0, 0,-1, 0, 1, 0, 0]))\n",
    "print(propagar([ 0, 0, 0, 1, 0, 0]))"
   ]
  }
 ],
 "metadata": {
  "kernelspec": {
   "display_name": "Python 3.10.8 64-bit",
   "language": "python",
   "name": "python3"
  },
  "language_info": {
   "codemirror_mode": {
    "name": "ipython",
    "version": 3
   },
   "file_extension": ".py",
   "mimetype": "text/x-python",
   "name": "python",
   "nbconvert_exporter": "python",
   "pygments_lexer": "ipython3",
   "version": "3.10.8"
  },
  "orig_nbformat": 4,
  "vscode": {
   "interpreter": {
    "hash": "e7370f93d1d0cde622a1f8e1c04877d8463912d04d973331ad4851f04de6915a"
   }
  }
 },
 "nbformat": 4,
 "nbformat_minor": 2
}
