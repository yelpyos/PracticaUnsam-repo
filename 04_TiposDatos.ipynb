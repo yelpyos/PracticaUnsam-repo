{
 "cells": [
  {
   "cell_type": "code",
   "execution_count": 2,
   "metadata": {},
   "outputs": [
    {
     "name": "stdout",
     "output_type": "stream",
     "text": [
      "('Lima', 100, 32.2)\n",
      "3220.0000000000005\n"
     ]
    }
   ],
   "source": [
    "# Ej 2.11\n",
    "\n",
    "import csv \n",
    "f = open('camion.csv')\n",
    "filas = csv.reader(f)\n",
    "next(filas)\n",
    "fila = next(filas)\n",
    "\n",
    "t = (fila[0], int(fila[1]), float(fila[2]))\n",
    "print(t)\n",
    "\n",
    "cost = t[1] * t[2]\n",
    "print(cost)\n"
   ]
  },
  {
   "cell_type": "code",
   "execution_count": 3,
   "metadata": {},
   "outputs": [
    {
     "data": {
      "text/plain": [
       "32.2"
      ]
     },
     "execution_count": 3,
     "metadata": {},
     "output_type": "execute_result"
    }
   ],
   "source": [
    "nombre, cajones, precio = t\n",
    "nombre\n",
    "cajones \n",
    "precio"
   ]
  },
  {
   "cell_type": "code",
   "execution_count": 4,
   "metadata": {},
   "outputs": [
    {
     "name": "stdout",
     "output_type": "stream",
     "text": [
      "('Lima', 200, 32.2)\n"
     ]
    }
   ],
   "source": [
    "t = (nombre, 2*cajones, precio)\n",
    "print(t)"
   ]
  },
  {
   "cell_type": "code",
   "execution_count": 5,
   "metadata": {},
   "outputs": [
    {
     "name": "stdout",
     "output_type": "stream",
     "text": [
      "{'nombre': 'Lima', 'cajones': 100, 'precio': 32.2}\n"
     ]
    }
   ],
   "source": [
    "d = {\n",
    "    'nombre' : fila[0],\n",
    "    'cajones' : int(fila[1]),\n",
    "    'precio' : float(fila[2])\n",
    "}\n",
    "\n",
    "print(d)"
   ]
  },
  {
   "cell_type": "code",
   "execution_count": 6,
   "metadata": {},
   "outputs": [
    {
     "name": "stdout",
     "output_type": "stream",
     "text": [
      "{'nombre': 'Lima', 'cajones': 100, 'precio': 32.2}\n",
      "3220.0000000000005\n"
     ]
    }
   ],
   "source": [
    "# Ej 2.12\n",
    "\n",
    "d = {\n",
    "    'nombre' : fila[0],\n",
    "    'cajones' : int(fila[1]),\n",
    "    'precio' : float(fila[2])\n",
    "}\n",
    "\n",
    "print(d)\n",
    "\n",
    "cost = d['cajones'] * d['precio']\n",
    "print(cost)"
   ]
  },
  {
   "cell_type": "code",
   "execution_count": 7,
   "metadata": {},
   "outputs": [
    {
     "name": "stdout",
     "output_type": "stream",
     "text": [
      "{'nombre': 'Lima', 'cajones': 75, 'precio': 32.2}\n",
      "{'nombre': 'Lima', 'cajones': 75, 'precio': 32.2, 'fecha': (14, 8, 2020), 'cuenta': 12345}\n"
     ]
    }
   ],
   "source": [
    "# cambio numero de cajones\n",
    "\n",
    "d['cajones'] = 75\n",
    "print(d)\n",
    "\n",
    "d['fecha'] = (14, 8, 2020)\n",
    "d['cuenta'] = 12345\n",
    "print(d)\n",
    "\n"
   ]
  },
  {
   "cell_type": "code",
   "execution_count": 8,
   "metadata": {},
   "outputs": [
    {
     "name": "stdout",
     "output_type": "stream",
     "text": [
      "k = nombre\n",
      "k = cajones\n",
      "k = precio\n",
      "k = fecha\n",
      "k = cuenta\n",
      "nombre = Lima\n",
      "cajones = 75\n",
      "precio = 32.2\n",
      "fecha = (14, 8, 2020)\n",
      "cuenta = 12345\n"
     ]
    }
   ],
   "source": [
    "# Ej 2.13\n",
    "\n",
    "for k in d:\n",
    "    print('k =', k) # horrible\n",
    "\n",
    "\n",
    "for k in d:\n",
    "    print(k, '=', d[k])"
   ]
  },
  {
   "cell_type": "code",
   "execution_count": 9,
   "metadata": {},
   "outputs": [
    {
     "name": "stdout",
     "output_type": "stream",
     "text": [
      "dict_items([('nombre', 'Lima'), ('cajones', 75), ('precio', 32.2), ('fecha', (14, 8, 2020)), ('cuenta', 12345)])\n",
      "nombre = Lima\n",
      "cajones = 75\n",
      "precio = 32.2\n",
      "fecha = (14, 8, 2020)\n",
      "cuenta = 12345\n"
     ]
    }
   ],
   "source": [
    "items = d.items()\n",
    "print(items)\n",
    "\n",
    "for k, v in d.items():\n",
    "    print(k, '=', v)\n",
    "    "
   ]
  },
  {
   "cell_type": "code",
   "execution_count": null,
   "metadata": {},
   "outputs": [],
   "source": []
  }
 ],
 "metadata": {
  "kernelspec": {
   "display_name": "Python 3.10.7 64-bit",
   "language": "python",
   "name": "python3"
  },
  "language_info": {
   "codemirror_mode": {
    "name": "ipython",
    "version": 3
   },
   "file_extension": ".py",
   "mimetype": "text/x-python",
   "name": "python",
   "nbconvert_exporter": "python",
   "pygments_lexer": "ipython3",
   "version": "3.10.7"
  },
  "orig_nbformat": 4,
  "vscode": {
   "interpreter": {
    "hash": "e7370f93d1d0cde622a1f8e1c04877d8463912d04d973331ad4851f04de6915a"
   }
  }
 },
 "nbformat": 4,
 "nbformat_minor": 2
}
