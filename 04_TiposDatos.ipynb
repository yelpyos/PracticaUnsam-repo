{
 "cells": [
  {
   "cell_type": "code",
   "execution_count": 7,
   "metadata": {},
   "outputs": [
    {
     "name": "stdout",
     "output_type": "stream",
     "text": [
      "('Lima', 100, 32.2)\n",
      "3220.0000000000005\n"
     ]
    }
   ],
   "source": [
    "# Ej 2.11\n",
    "\n",
    "import csv \n",
    "f = open('camion.csv')\n",
    "filas = csv.reader(f)\n",
    "next(filas)\n",
    "fila = next(filas)\n",
    "\n",
    "t = (fila[0], int(fila[1]), float(fila[2]))\n",
    "print(t)\n",
    "\n",
    "cost = t[1] * t[2]\n",
    "print(cost)\n"
   ]
  },
  {
   "cell_type": "code",
   "execution_count": null,
   "metadata": {},
   "outputs": [],
   "source": []
  }
 ],
 "metadata": {
  "kernelspec": {
   "display_name": "Python 3.10.7 64-bit",
   "language": "python",
   "name": "python3"
  },
  "language_info": {
   "codemirror_mode": {
    "name": "ipython",
    "version": 3
   },
   "file_extension": ".py",
   "mimetype": "text/x-python",
   "name": "python",
   "nbconvert_exporter": "python",
   "pygments_lexer": "ipython3",
   "version": "3.10.7"
  },
  "orig_nbformat": 4,
  "vscode": {
   "interpreter": {
    "hash": "e7370f93d1d0cde622a1f8e1c04877d8463912d04d973331ad4851f04de6915a"
   }
  }
 },
 "nbformat": 4,
 "nbformat_minor": 2
}
