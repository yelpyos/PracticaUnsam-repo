{
 "cells": [
  {
   "cell_type": "code",
   "execution_count": 2,
   "metadata": {},
   "outputs": [
    {
     "name": "stdout",
     "output_type": "stream",
     "text": [
      "('Lima', 100, 32.2)\n",
      "3220.0000000000005\n"
     ]
    }
   ],
   "source": [
    "# Ej 2.11\n",
    "\n",
    "import csv \n",
    "f = open('camion.csv')\n",
    "filas = csv.reader(f)\n",
    "next(filas)\n",
    "fila = next(filas)\n",
    "\n",
    "t = (fila[0], int(fila[1]), float(fila[2]))\n",
    "print(t)\n",
    "\n",
    "cost = t[1] * t[2]\n",
    "print(cost)\n"
   ]
  },
  {
   "cell_type": "code",
   "execution_count": 3,
   "metadata": {},
   "outputs": [
    {
     "data": {
      "text/plain": [
       "32.2"
      ]
     },
     "execution_count": 3,
     "metadata": {},
     "output_type": "execute_result"
    }
   ],
   "source": [
    "nombre, cajones, precio = t\n",
    "nombre\n",
    "cajones \n",
    "precio"
   ]
  },
  {
   "cell_type": "code",
   "execution_count": 4,
   "metadata": {},
   "outputs": [
    {
     "name": "stdout",
     "output_type": "stream",
     "text": [
      "('Lima', 200, 32.2)\n"
     ]
    }
   ],
   "source": [
    "t = (nombre, 2*cajones, precio)\n",
    "print(t)"
   ]
  },
  {
   "cell_type": "code",
   "execution_count": 5,
   "metadata": {},
   "outputs": [
    {
     "name": "stdout",
     "output_type": "stream",
     "text": [
      "{'nombre': 'Lima', 'cajones': 100, 'precio': 32.2}\n"
     ]
    }
   ],
   "source": [
    "d = {\n",
    "    'nombre' : fila[0],\n",
    "    'cajones' : int(fila[1]),\n",
    "    'precio' : float(fila[2])\n",
    "}\n",
    "\n",
    "print(d)"
   ]
  },
  {
   "cell_type": "code",
   "execution_count": 6,
   "metadata": {},
   "outputs": [
    {
     "name": "stdout",
     "output_type": "stream",
     "text": [
      "{'nombre': 'Lima', 'cajones': 100, 'precio': 32.2}\n",
      "3220.0000000000005\n"
     ]
    }
   ],
   "source": [
    "# Ej 2.12\n",
    "\n",
    "d = {\n",
    "    'nombre' : fila[0],\n",
    "    'cajones' : int(fila[1]),\n",
    "    'precio' : float(fila[2])\n",
    "}\n",
    "\n",
    "print(d)\n",
    "\n",
    "cost = d['cajones'] * d['precio']\n",
    "print(cost)"
   ]
  },
  {
   "cell_type": "code",
   "execution_count": 7,
   "metadata": {},
   "outputs": [
    {
     "name": "stdout",
     "output_type": "stream",
     "text": [
      "{'nombre': 'Lima', 'cajones': 75, 'precio': 32.2}\n",
      "{'nombre': 'Lima', 'cajones': 75, 'precio': 32.2, 'fecha': (14, 8, 2020), 'cuenta': 12345}\n"
     ]
    }
   ],
   "source": [
    "# cambio numero de cajones\n",
    "\n",
    "d['cajones'] = 75\n",
    "print(d)\n",
    "\n",
    "d['fecha'] = (14, 8, 2020)\n",
    "d['cuenta'] = 12345\n",
    "print(d)\n",
    "\n"
   ]
  },
  {
   "cell_type": "code",
   "execution_count": 8,
   "metadata": {},
   "outputs": [
    {
     "name": "stdout",
     "output_type": "stream",
     "text": [
      "k = nombre\n",
      "k = cajones\n",
      "k = precio\n",
      "k = fecha\n",
      "k = cuenta\n",
      "nombre = Lima\n",
      "cajones = 75\n",
      "precio = 32.2\n",
      "fecha = (14, 8, 2020)\n",
      "cuenta = 12345\n"
     ]
    }
   ],
   "source": [
    "# Ej 2.13\n",
    "\n",
    "for k in d:\n",
    "    print('k =', k) # horrible\n",
    "\n",
    "\n",
    "for k in d:\n",
    "    print(k, '=', d[k])"
   ]
  },
  {
   "cell_type": "code",
   "execution_count": 9,
   "metadata": {},
   "outputs": [
    {
     "name": "stdout",
     "output_type": "stream",
     "text": [
      "dict_items([('nombre', 'Lima'), ('cajones', 75), ('precio', 32.2), ('fecha', (14, 8, 2020)), ('cuenta', 12345)])\n",
      "nombre = Lima\n",
      "cajones = 75\n",
      "precio = 32.2\n",
      "fecha = (14, 8, 2020)\n",
      "cuenta = 12345\n"
     ]
    }
   ],
   "source": [
    "items = d.items() # me devuelve una lista de tuplas (clave,valor)\n",
    "print(items)\n",
    "\n",
    "for k, v in d.items():\n",
    "    print(k, '=', v)\n",
    "    "
   ]
  },
  {
   "cell_type": "code",
   "execution_count": 13,
   "metadata": {},
   "outputs": [
    {
     "name": "stdout",
     "output_type": "stream",
     "text": [
      "['nombre', 'cajones', 'precio', 'fecha', 'cuenta']\n",
      "dict_keys(['nombre', 'cajones', 'precio', 'fecha', 'cuenta'])\n"
     ]
    }
   ],
   "source": [
    "print(list(d)) # pasando un diccionario a una lista obtengo sus claves\n",
    "\n",
    "claves = d.keys() # obtengo las claves del dict\n",
    "print(claves)"
   ]
  },
  {
   "cell_type": "code",
   "execution_count": 14,
   "metadata": {},
   "outputs": [
    {
     "name": "stdout",
     "output_type": "stream",
     "text": [
      "[('nombre', 'Manzanas'), ('cajones', 100), ('precio', 490.1), ('fecha', (13, 8, 2020))]\n",
      "{'nombre': 'Manzanas', 'cajones': 100, 'precio': 490.1, 'fecha': (13, 8, 2020)}\n"
     ]
    }
   ],
   "source": [
    "# si empiezo con tuplas, puedo crear un diccionario usando\n",
    "# la funcion dict()\n",
    "\n",
    "nuevos_items = [('nombre', 'Manzanas'), ('cajones', 100), ('precio', 490.1), ('fecha', (13, 8, 2020))]\n",
    "print(nuevos_items)\n",
    "\n",
    "d = dict(nuevos_items)\n",
    "print(d)\n"
   ]
  },
  {
   "cell_type": "code",
   "execution_count": 20,
   "metadata": {},
   "outputs": [
    {
     "name": "stdout",
     "output_type": "stream",
     "text": [
      "bananamanzanamandarina\n"
     ]
    },
    {
     "data": {
      "text/plain": [
       "{'banana': 'b', 'manzana': 'a', 'mandarina': 'n'}"
      ]
     },
     "execution_count": 20,
     "metadata": {},
     "output_type": "execute_result"
    }
   ],
   "source": [
    "# Ej 2.14\n",
    "\n",
    "def geringoso(palabras):\n",
    "    cadena = palabras\n",
    "    capadepenapa = ''\n",
    "\n",
    "    for c in cadena:\n",
    "        if c == 'a':\n",
    "            capadepenapa = capadepenapa + 'apa'\n",
    "        elif c == 'e':\n",
    "            capadepenapa = capadepenapa + 'epe'\n",
    "        elif c == 'i':\n",
    "            capadepenapa = capadepenapa + 'ipi'\n",
    "        elif c == 'o':\n",
    "            capadepenapa = capadepenapa + 'opo'\n",
    "        elif c == 'u':\n",
    "            capadepenapa = capadepenapa + 'upu'   \n",
    "        else:    \n",
    "            capadepenapa = capadepenapa + c # deja la letra como esta\n",
    "    print(capadepenapa)\n",
    "    #cadena2 = tuple(palabras)\n",
    "    #capa2 = tuple(capadepenapa)\n",
    "    dict_gerin = dict(zip(cadena,capadepenapa))\n",
    "    return dict_gerin\n",
    "\n",
    "list = ['banana', 'manzana', 'mandarina']\n",
    "geringoso(list)\n",
    "\n",
    "# no me termina de salir. Esta mal la iteracion \n",
    "# sobre las listas me parece"
   ]
  },
  {
   "cell_type": "code",
   "execution_count": 3,
   "metadata": {},
   "outputs": [
    {
     "name": "stdout",
     "output_type": "stream",
     "text": [
      "{'banana': ['b'], 'manzana': ['bapa'], 'mandarina': ['bapan']}\n",
      "['banana', 'manzana', 'mandarina']\n",
      "bapanapanapamapanzapanapamapandaparipinapa\n",
      "[['b'], ['bapa'], ['bapan'], ['bapanapa'], ['bapanapan'], ['bapanapanapa'], ['bapanapanapam'], ['bapanapanapamapa'], ['bapanapanapamapan'], ['bapanapanapamapanz'], ['bapanapanapamapanzapa'], ['bapanapanapamapanzapan'], ['bapanapanapamapanzapanapa'], ['bapanapanapamapanzapanapam'], ['bapanapanapamapanzapanapamapa'], ['bapanapanapamapanzapanapamapan'], ['bapanapanapamapanzapanapamapand'], ['bapanapanapamapanzapanapamapandapa'], ['bapanapanapamapanzapanapamapandapar'], ['bapanapanapamapanzapanapamapandaparipi'], ['bapanapanapamapanzapanapamapandaparipin'], ['bapanapanapamapanzapanapamapandaparipinapa']]\n",
      "manzana\n"
     ]
    }
   ],
   "source": [
    "               \n",
    "cadena = ['banana', 'manzana', 'mandarina']\n",
    "capadepenapa = '' # si uso '' compila pero no me lo separa en elementos\n",
    "capa = []\n",
    "\n",
    "for i in cadena:  # intento iterar sobre cada letra de cada elemento de la lista\n",
    "    for letter in i:\n",
    "        if letter == 'a':\n",
    "            capadepenapa = capadepenapa + 'apa'\n",
    "        elif letter == 'e':\n",
    "            capadepenapa = capadepenapa + 'epe'\n",
    "        elif letter == 'i':\n",
    "            capadepenapa = capadepenapa + 'ipi'\n",
    "        elif letter == 'o':\n",
    "            capadepenapa = capadepenapa + 'opo'\n",
    "        elif letter == 'u':\n",
    "            capadepenapa = capadepenapa + 'upu'   \n",
    "        else:    \n",
    "            capadepenapa = capadepenapa + letter \n",
    "    #for p in capa:\n",
    "    #    capade = (row[p])\n",
    "    #print(capadepenapa)\n",
    "        capa.append([capadepenapa]) #este append no lo separa??\n",
    "\n",
    "dict_gerin = dict(zip(cadena,capa))\n",
    "print(dict_gerin) # no logro separar los items de la lista pero esta bien pensado\n",
    "                    # ?????\n",
    "print(cadena)\n",
    "print(capadepenapa)    \n",
    "print(capa)\n",
    "print(cadena[1])"
   ]
  },
  {
   "cell_type": "code",
   "execution_count": 26,
   "metadata": {},
   "outputs": [
    {
     "name": "stdout",
     "output_type": "stream",
     "text": [
      "{'a': 1, 'b': 2, 'c': 3}\n",
      "banana\n"
     ]
    }
   ],
   "source": [
    "# Python3 program to Convert a\n",
    "# list to dictionary\n",
    " \n",
    " \n",
    "def Convert(a):\n",
    "    it = iter(a)\n",
    "    res_dct = dict(zip(it, it))\n",
    "    return res_dct\n",
    " \n",
    " \n",
    "# Driver code\n",
    "lst = ['a', 1, 'b', 2, 'c', 3]\n",
    "print(Convert(lst))\n",
    "\n",
    "cadena = ['banana', 'manzana', 'mandarina']\n",
    "capadepenapa = []\n",
    "\n",
    "print(cadena[0])"
   ]
  }
 ],
 "metadata": {
  "kernelspec": {
   "display_name": "Python 3.10.7 64-bit",
   "language": "python",
   "name": "python3"
  },
  "language_info": {
   "codemirror_mode": {
    "name": "ipython",
    "version": 3
   },
   "file_extension": ".py",
   "mimetype": "text/x-python",
   "name": "python",
   "nbconvert_exporter": "python",
   "pygments_lexer": "ipython3",
   "version": "3.10.7"
  },
  "orig_nbformat": 4,
  "vscode": {
   "interpreter": {
    "hash": "e7370f93d1d0cde622a1f8e1c04877d8463912d04d973331ad4851f04de6915a"
   }
  }
 },
 "nbformat": 4,
 "nbformat_minor": 2
}
