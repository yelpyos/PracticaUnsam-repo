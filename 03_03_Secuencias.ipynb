{
 "cells": [
  {
   "cell_type": "code",
   "execution_count": 5,
   "metadata": {},
   "outputs": [
    {
     "name": "stdout",
     "output_type": "stream",
     "text": [
      "10 9 8 7 6 5 4 3 2 1 "
     ]
    }
   ],
   "source": [
    "# Ex 3.6\n",
    "\n",
    "for n in range(10,0,-1):\n",
    "    print(n, end=' ') # with end I change \n",
    "\n"
   ]
  },
  {
   "cell_type": "code",
   "execution_count": 12,
   "metadata": {},
   "outputs": [
    {
     "name": "stdout",
     "output_type": "stream",
     "text": [
      "0 4\n",
      "1 9\n",
      "2 1\n",
      "3 25\n",
      "4 16\n",
      "5 100\n",
      "6 49\n",
      "4\n",
      "9\n",
      "1\n",
      "25\n",
      "16\n",
      "100\n",
      "49\n"
     ]
    }
   ],
   "source": [
    "data = [4, 9, 1, 25, 16, 100, 49]\n",
    "\n",
    "sum(data)\n",
    "\n",
    "for n, x in enumerate(data): \n",
    "    print(n,x)\n",
    "\n",
    "for n in range(len(data)):\n",
    "    print(data[n])"
   ]
  },
  {
   "cell_type": "code",
   "execution_count": 14,
   "metadata": {},
   "outputs": [
    {
     "name": "stdout",
     "output_type": "stream",
     "text": [
      "Faltan datos en la línea 3 del archivo.\n",
      "Faltan datos en la línea 6 del archivo.\n",
      "30381.15\n"
     ]
    }
   ],
   "source": [
    "# Ex 3.8\n",
    "\n",
    "from cmath import cos\n",
    "import csv\n",
    "\n",
    "def costo_camion(nombre_archivo):\n",
    "    '''Computa el precio total del camion (cajones * precio) de un archivo'''\n",
    "    total = 0.0\n",
    "\n",
    "    with open(nombre_archivo, 'rt') as f:\n",
    "        rows = csv.reader(f)\n",
    "        headers = next(rows)\n",
    "        for i, row in enumerate(rows):\n",
    "            try:\n",
    "                ncajones = int(row[1])\n",
    "                precio = float(row[2])\n",
    "                total += ncajones * precio\n",
    "            except ValueError:\n",
    "                print('Faltan datos en la línea', i, 'del archivo.')\n",
    "    return total\n",
    "\n",
    "cost = costo_camion('missing.csv')\n",
    "print(cost)"
   ]
  },
  {
   "cell_type": "code",
   "execution_count": 18,
   "metadata": {},
   "outputs": [
    {
     "name": "stdout",
     "output_type": "stream",
     "text": [
      "Fila 4: No puede interpretar: ['Mandarina', '', '51.23']\n",
      "Fila 7: No puede interpretar: ['Naranja', '', '70.44']\n",
      "30381.15\n"
     ]
    }
   ],
   "source": [
    "from cmath import cos\n",
    "import csv\n",
    "\n",
    "def costo_camion(nombre_archivo):\n",
    "    '''Computa el precio total del camion (cajones * precio) de un archivo'''\n",
    "    total = 0.0\n",
    "\n",
    "    with open(nombre_archivo, 'rt') as f:\n",
    "        filas = csv.reader(f)\n",
    "        headers = next(filas)\n",
    "        \"\"\" for i, row in enumerate(rows):\n",
    "            try:\n",
    "                ncajones = int(row[1])\n",
    "                precio = float(row[2])\n",
    "                total += ncajones * precio\n",
    "            except ValueError:\n",
    "                print('Faltan datos en la línea', i, 'del archivo.') \"\"\"\n",
    "        for n_fila, fila in enumerate(filas, start=1):\n",
    "            try:\n",
    "                ncajones = int(fila[1])\n",
    "                precio = float(fila[2])\n",
    "                total += ncajones * precio\n",
    "            except ValueError:\n",
    "                print(f'Fila {n_fila}: No puede interpretar: {fila}')\n",
    "    return total\n",
    "\n",
    "cost = costo_camion('missing.csv')\n",
    "print(cost)\n",
    "\n"
   ]
  }
 ],
 "metadata": {
  "kernelspec": {
   "display_name": "Python 3.10.8 64-bit",
   "language": "python",
   "name": "python3"
  },
  "language_info": {
   "codemirror_mode": {
    "name": "ipython",
    "version": 3
   },
   "file_extension": ".py",
   "mimetype": "text/x-python",
   "name": "python",
   "nbconvert_exporter": "python",
   "pygments_lexer": "ipython3",
   "version": "3.10.8"
  },
  "orig_nbformat": 4,
  "vscode": {
   "interpreter": {
    "hash": "e7370f93d1d0cde622a1f8e1c04877d8463912d04d973331ad4851f04de6915a"
   }
  }
 },
 "nbformat": 4,
 "nbformat_minor": 2
}
