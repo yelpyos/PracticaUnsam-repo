{
 "cells": [
  {
   "cell_type": "code",
   "execution_count": 4,
   "metadata": {},
   "outputs": [
    {
     "name": "stdout",
     "output_type": "stream",
     "text": [
      "10 9 8 7 6 5 4 3 2 1 "
     ]
    }
   ],
   "source": [
    "# Ex 3.6\n",
    "\n",
    "for n in range(10,0,-1):\n",
    "    print(n, end=' ') # with end I change \n",
    "\n"
   ]
  },
  {
   "cell_type": "code",
   "execution_count": 5,
   "metadata": {},
   "outputs": [
    {
     "name": "stdout",
     "output_type": "stream",
     "text": [
      "0 4\n",
      "1 9\n",
      "2 1\n",
      "3 25\n",
      "4 16\n",
      "5 100\n",
      "6 49\n",
      "4\n",
      "9\n",
      "1\n",
      "25\n",
      "16\n",
      "100\n",
      "49\n"
     ]
    }
   ],
   "source": [
    "data = [4, 9, 1, 25, 16, 100, 49]\n",
    "\n",
    "sum(data)\n",
    "\n",
    "for n, x in enumerate(data): \n",
    "    print(n,x)\n",
    "\n",
    "for n in range(len(data)):\n",
    "    print(data[n])"
   ]
  },
  {
   "cell_type": "code",
   "execution_count": 6,
   "metadata": {},
   "outputs": [
    {
     "name": "stdout",
     "output_type": "stream",
     "text": [
      "Faltan datos en la línea 3 del archivo.\n",
      "Faltan datos en la línea 6 del archivo.\n",
      "30381.15\n"
     ]
    }
   ],
   "source": [
    "\n",
    "\n",
    "from cmath import cos\n",
    "import csv\n",
    "\n",
    "def costo_camion(nombre_archivo):\n",
    "    '''Computa el precio total del camion (cajones * precio) de un archivo'''\n",
    "    total = 0.0\n",
    "\n",
    "    with open(nombre_archivo, 'rt') as f:\n",
    "        rows = csv.reader(f)\n",
    "        headers = next(rows)\n",
    "        for i, row in enumerate(rows):\n",
    "            try:\n",
    "                ncajones = int(row[1])\n",
    "                precio = float(row[2])\n",
    "                total += ncajones * precio\n",
    "            except ValueError:\n",
    "                print('Faltan datos en la línea', i, 'del archivo.')\n",
    "    return total\n",
    "\n",
    "cost = costo_camion('missing.csv')\n",
    "print(cost)"
   ]
  },
  {
   "cell_type": "code",
   "execution_count": 7,
   "metadata": {},
   "outputs": [
    {
     "name": "stdout",
     "output_type": "stream",
     "text": [
      "3220.0000000000005\n",
      "7775.0\n",
      "23291.0\n",
      "Fila 4: No puede interpretar: ['Mandarina', '', '51.23']\n",
      "27126.15\n",
      "30381.15\n",
      "Fila 7: No puede interpretar: ['Naranja', '', '70.44']\n",
      "30381.15\n"
     ]
    }
   ],
   "source": [
    "# Ex 3.8 este programa itera sobre rows \n",
    "\n",
    "import csv\n",
    "\n",
    "def costo_camion(nombre_archivo):\n",
    "    '''Computa el precio total del camion (cajones * precio) de un archivo'''\n",
    "    total = 0.0\n",
    "\n",
    "    with open(nombre_archivo, 'rt') as f:\n",
    "        rows = csv.reader(f)\n",
    "        headers = next(rows)\n",
    "        \"\"\" for i, row in enumerate(rows):\n",
    "            try:              aca lo hacia con rows\n",
    "                ncajones = int(row[1])\n",
    "                precio = float(row[2])\n",
    "                total += ncajones * precio\n",
    "            except ValueError:\n",
    "                print('Faltan datos en la línea', i, 'del archivo.') \"\"\"\n",
    "        for n_fila, fila in enumerate(rows, start=1):\n",
    "            try:\n",
    "                ncajones = int(fila[1])\n",
    "                precio = float(fila[2])\n",
    "                total += ncajones * precio\n",
    "                print(total)\n",
    "            except ValueError:\n",
    "                print(f'Fila {n_fila}: No puede interpretar: {fila}')\n",
    "    return total\n",
    "\n",
    "cost = costo_camion('missing.csv')\n",
    "print(cost)\n",
    "\n",
    "\n"
   ]
  },
  {
   "cell_type": "code",
   "execution_count": 10,
   "metadata": {},
   "outputs": [
    {
     "name": "stdout",
     "output_type": "stream",
     "text": [
      "3220.0000000000005\n",
      "7775.0\n",
      "23291.0\n",
      "33537.0\n",
      "37372.15\n",
      "40627.15\n",
      "47671.15\n",
      "47671.15\n"
     ]
    }
   ],
   "source": [
    "# quiero modificar Ex 3.9 zip() function para poder pasarle cualquier archivo y que me lo ordene; evitar el 'hardcodeo', si tiene las columnas requeridas, va a funcionar\n",
    "\n",
    "import csv\n",
    "\n",
    "def costo_camion(nombre_archivo):\n",
    "    '''Computa el precio total del camion (cajones * precio) de un archivo'''\n",
    "    total = 0.0\n",
    "\n",
    "    with open(nombre_archivo, 'rt') as f:\n",
    "        rows = csv.reader(f)\n",
    "        headers = next(rows)\n",
    "        for n_row, row in enumerate(rows, start=1):\n",
    "            record = dict(zip(headers,row))\n",
    "            try:\n",
    "                ncajones = int(record['cajones'])\n",
    "                precio = float(record['precio'])\n",
    "                total += ncajones * precio\n",
    "                print(total)\n",
    "            except ValueError:\n",
    "                print(f'Fila {n_row}: No puede interpretar: {row}')\n",
    "    return total\n",
    "\n",
    "cost = costo_camion('fecha_camion.csv')\n",
    "print(cost)\n"
   ]
  },
  {
   "cell_type": "code",
   "execution_count": 13,
   "metadata": {},
   "outputs": [
    {
     "name": "stdout",
     "output_type": "stream",
     "text": [
      "{'nombre': 'Naranja', 'cajones': '100', 'precio': '70.44'}\n",
      "{'nombre': 'Naranja', 'cajones': '100', 'precio': '70.44'}\n"
     ]
    },
    {
     "ename": "TypeError",
     "evalue": "string indices must be integers",
     "output_type": "error",
     "traceback": [
      "\u001b[0;31m---------------------------------------------------------------------------\u001b[0m",
      "\u001b[0;31mTypeError\u001b[0m                                 Traceback (most recent call last)",
      "Cell \u001b[0;32mIn [13], line 31\u001b[0m\n\u001b[1;32m     29\u001b[0m total \u001b[39m=\u001b[39m \u001b[39m0.0\u001b[39m\n\u001b[1;32m     30\u001b[0m \u001b[39mfor\u001b[39;00m s \u001b[39min\u001b[39;00m camion:\n\u001b[0;32m---> 31\u001b[0m     total \u001b[39m+\u001b[39m\u001b[39m=\u001b[39m s[\u001b[39m'\u001b[39;49m\u001b[39mcajones\u001b[39;49m\u001b[39m'\u001b[39;49m]\u001b[39m*\u001b[39ms[\u001b[39m'\u001b[39m\u001b[39mprecio\u001b[39m\u001b[39m'\u001b[39m]\n\u001b[1;32m     32\u001b[0m \u001b[39mprint\u001b[39m(total)\n\u001b[1;32m     34\u001b[0m \u001b[39mprint\u001b[39m(camion[\u001b[39m1\u001b[39m])\n",
      "\u001b[0;31mTypeError\u001b[0m: string indices must be integers"
     ]
    }
   ],
   "source": [
    "# quiero modificar 2.18 con el metodo de arriba para que no quede 'hardcodeado' las variables, para que elija las columnas a partir de sus encabezados\n",
    "\n",
    "#con los precios del camión (2.16) y los de venta en el negocio (2.17) calcule lo que costó el camión, lo que se recaudó con la venta, y la diferencia. ¿Hubo ganancia o pérdida? El programa debe imprimir por pantalla un balance con estos datos.\n",
    "\n",
    "import csv\n",
    "from pprint import pprint\n",
    "\n",
    "def leer_camion(nombre_archivo):\n",
    "    camion = []\n",
    "    with open(nombre_archivo, 'rt') as f:\n",
    "        rows = csv.reader(f)\n",
    "        headers = next(rows)\n",
    "        for row in rows:\n",
    "            record = dict(zip(headers,row))\n",
    "            stock = {\n",
    "                'nombre' : record['nombre'],\n",
    "                'cajones' : int(record['cajones']),\n",
    "                'precio' : float(record['precio'])\n",
    "            }\n",
    "            camion.append(stock) \n",
    "        print(record)\n",
    "    return record\n",
    "\n",
    "camion = leer_camion('camion.csv')\n",
    "print(camion)\n",
    "\n",
    "#print(camion[1]['cajones'])\n",
    "\n",
    "total = 0.0\n",
    "for s in camion:\n",
    "    total += s['cajones']*s['precio']\n",
    "print(total)\n",
    "\n",
    "print(camion[1])\n",
    "\n",
    "\n",
    "def leer_precios(nombre_archivo):\n",
    "        precios = {}        \n",
    "        with open(nombre_archivo) as f:\n",
    "            rows = csv.reader(f)\n",
    "            for row in rows:\n",
    "                try:\n",
    "                    precios[row[0]] = float(row[1])\n",
    "                    \n",
    "                    \"\"\"if row == []:\n",
    "                        pass\n",
    "                    else:\n",
    "                        k, v = row\n",
    "                        d[k] = v\"\"\"\n",
    "                    \n",
    "                except IndexError:\n",
    "                    print('bad row', row)\n",
    "            print(precios)  \n",
    "        return precios\n",
    "\n",
    "        \"\"\" try:\n",
    "                quantity = int(row[1])\n",
    "                price = float(row[2])\n",
    "                total_cost += quantity * price                \n",
    "            except ValueError:\n",
    "                print('Bad row', row) \"\"\"\n",
    "\n",
    "precios = leer_precios('precios.csv')\n",
    "\n",
    "print(precios['Naranja'])\n",
    "print(precios['Mandarina'])\n",
    "\n",
    "\n",
    "def balance(camion, precios):\n",
    "    rows = []\n",
    "    for stock in camion:\n",
    "        precio_actual = precios[stock['nombre']]\n",
    "        variacion = precio_actual - stock['precio']\n",
    "        resumen = (stock['nombre'], stock['cajones'], precio_actual, variacion)\n",
    "        rows.append(resumen)\n",
    "    return rows\n",
    "\n",
    "\n",
    "camion = leer_camion('fecha_camion.csv')\n",
    "precios = leer_precios('precios.csv')\n",
    "\n",
    "bal = balance(camion, precios)\n",
    "print(bal)\n",
    "\n",
    "print(bal[0][3])\n",
    "\n",
    "\n",
    "\"\"\" fru, cant, prec, var = bal\n",
    "print(fru) \"\"\" # tampoco la puedo desempaquetar??\n",
    "\n",
    "dif = []\n",
    "i = 0\n",
    "while i < len(bal):    \n",
    "    dif.append(bal([i][3]))\n",
    "    i += 1\n",
    "print(dif)  \n",
    "\n",
    "# no veo por que no puedo sumar el tercer elemento de cada tupla ???\n",
    "\n",
    "# desarmar la tupla y sumar ?\n",
    "\n",
    "#print([sum(i[3]) for i in bal])"
   ]
  }
 ],
 "metadata": {
  "kernelspec": {
   "display_name": "Python 3.10.8 64-bit",
   "language": "python",
   "name": "python3"
  },
  "language_info": {
   "codemirror_mode": {
    "name": "ipython",
    "version": 3
   },
   "file_extension": ".py",
   "mimetype": "text/x-python",
   "name": "python",
   "nbconvert_exporter": "python",
   "pygments_lexer": "ipython3",
   "version": "3.10.8"
  },
  "orig_nbformat": 4,
  "vscode": {
   "interpreter": {
    "hash": "e7370f93d1d0cde622a1f8e1c04877d8463912d04d973331ad4851f04de6915a"
   }
  }
 },
 "nbformat": 4,
 "nbformat_minor": 2
}
