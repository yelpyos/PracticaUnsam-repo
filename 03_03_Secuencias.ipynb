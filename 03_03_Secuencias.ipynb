{
 "cells": [
  {
   "cell_type": "code",
   "execution_count": 4,
   "metadata": {},
   "outputs": [
    {
     "name": "stdout",
     "output_type": "stream",
     "text": [
      "10 9 8 7 6 5 4 3 2 1 "
     ]
    }
   ],
   "source": [
    "# Ex 3.6\n",
    "\n",
    "for n in range(10,0,-1):\n",
    "    print(n, end=' ') # with end I change \n",
    "\n"
   ]
  },
  {
   "cell_type": "code",
   "execution_count": 5,
   "metadata": {},
   "outputs": [
    {
     "name": "stdout",
     "output_type": "stream",
     "text": [
      "0 4\n",
      "1 9\n",
      "2 1\n",
      "3 25\n",
      "4 16\n",
      "5 100\n",
      "6 49\n",
      "4\n",
      "9\n",
      "1\n",
      "25\n",
      "16\n",
      "100\n",
      "49\n"
     ]
    }
   ],
   "source": [
    "data = [4, 9, 1, 25, 16, 100, 49]\n",
    "\n",
    "sum(data)\n",
    "\n",
    "for n, x in enumerate(data): \n",
    "    print(n,x)\n",
    "\n",
    "for n in range(len(data)):\n",
    "    print(data[n])"
   ]
  },
  {
   "cell_type": "code",
   "execution_count": 6,
   "metadata": {},
   "outputs": [
    {
     "name": "stdout",
     "output_type": "stream",
     "text": [
      "Faltan datos en la línea 3 del archivo.\n",
      "Faltan datos en la línea 6 del archivo.\n",
      "30381.15\n"
     ]
    }
   ],
   "source": [
    "\n",
    "\n",
    "from cmath import cos\n",
    "import csv\n",
    "\n",
    "def costo_camion(nombre_archivo):\n",
    "    '''Computa el precio total del camion (cajones * precio) de un archivo'''\n",
    "    total = 0.0\n",
    "\n",
    "    with open(nombre_archivo, 'rt') as f:\n",
    "        rows = csv.reader(f)\n",
    "        headers = next(rows)\n",
    "        for i, row in enumerate(rows):\n",
    "            try:\n",
    "                ncajones = int(row[1])\n",
    "                precio = float(row[2])\n",
    "                total += ncajones * precio\n",
    "            except ValueError:\n",
    "                print('Faltan datos en la línea', i, 'del archivo.')\n",
    "    return total\n",
    "\n",
    "cost = costo_camion('missing.csv')\n",
    "print(cost)"
   ]
  },
  {
   "cell_type": "code",
   "execution_count": 7,
   "metadata": {},
   "outputs": [
    {
     "name": "stdout",
     "output_type": "stream",
     "text": [
      "3220.0000000000005\n",
      "7775.0\n",
      "23291.0\n",
      "Fila 4: No puede interpretar: ['Mandarina', '', '51.23']\n",
      "27126.15\n",
      "30381.15\n",
      "Fila 7: No puede interpretar: ['Naranja', '', '70.44']\n",
      "30381.15\n"
     ]
    }
   ],
   "source": [
    "# Ex 3.8 este programa itera sobre rows \n",
    "\n",
    "import csv\n",
    "\n",
    "def costo_camion(nombre_archivo):\n",
    "    '''Computa el precio total del camion (cajones * precio) de un archivo'''\n",
    "    total = 0.0\n",
    "\n",
    "    with open(nombre_archivo, 'rt') as f:\n",
    "        rows = csv.reader(f)\n",
    "        headers = next(rows)\n",
    "        \"\"\" for i, row in enumerate(rows):\n",
    "            try:              aca lo hacia con rows\n",
    "                ncajones = int(row[1])\n",
    "                precio = float(row[2])\n",
    "                total += ncajones * precio\n",
    "            except ValueError:\n",
    "                print('Faltan datos en la línea', i, 'del archivo.') \"\"\"\n",
    "        for n_fila, fila in enumerate(rows, start=1):\n",
    "            try:\n",
    "                ncajones = int(fila[1])\n",
    "                precio = float(fila[2])\n",
    "                total += ncajones * precio\n",
    "                print(total)\n",
    "            except ValueError:\n",
    "                print(f'Fila {n_fila}: No puede interpretar: {fila}')\n",
    "    return total\n",
    "\n",
    "cost = costo_camion('missing.csv')\n",
    "print(cost)\n",
    "\n",
    "\n"
   ]
  },
  {
   "cell_type": "code",
   "execution_count": 10,
   "metadata": {},
   "outputs": [
    {
     "name": "stdout",
     "output_type": "stream",
     "text": [
      "3220.0000000000005\n",
      "7775.0\n",
      "23291.0\n",
      "33537.0\n",
      "37372.15\n",
      "40627.15\n",
      "47671.15\n",
      "47671.15\n"
     ]
    }
   ],
   "source": [
    "# quiero modificar Ex 3.9 zip() function para poder pasarle cualquier archivo y que me lo ordene; evitar el 'hardcodeo', si tiene las columnas requeridas, va a funcionar\n",
    "\n",
    "import csv\n",
    "\n",
    "def costo_camion(nombre_archivo):\n",
    "    '''Computa el precio total del camion (cajones * precio) de un archivo'''\n",
    "    total = 0.0\n",
    "\n",
    "    with open(nombre_archivo, 'rt') as f:\n",
    "        rows = csv.reader(f)\n",
    "        headers = next(rows)\n",
    "        for n_row, row in enumerate(rows, start=1):\n",
    "            record = dict(zip(headers,row))\n",
    "            try:\n",
    "                ncajones = int(record['cajones'])\n",
    "                precio = float(record['precio'])\n",
    "                total += ncajones * precio\n",
    "                print(total)\n",
    "            except ValueError:\n",
    "                print(f'Fila {n_row}: No puede interpretar: {row}')\n",
    "    return total\n",
    "\n",
    "cost = costo_camion('fecha_camion.csv')\n",
    "print(cost)\n"
   ]
  },
  {
   "cell_type": "code",
   "execution_count": 19,
   "metadata": {},
   "outputs": [
    {
     "name": "stdout",
     "output_type": "stream",
     "text": [
      "{'nombre': 'Naranja', 'cajones': '100', 'precio': '70.44'}\n",
      "[{'nombre': 'Lima', 'cajones': 100, 'precio': 32.2}, {'nombre': 'Naranja', 'cajones': 50, 'precio': 91.1}, {'nombre': 'Caqui', 'cajones': 150, 'precio': 103.44}, {'nombre': 'Mandarina', 'cajones': 200, 'precio': 51.23}, {'nombre': 'Durazno', 'cajones': 95, 'precio': 40.37}, {'nombre': 'Mandarina', 'cajones': 50, 'precio': 65.1}, {'nombre': 'Naranja', 'cajones': 100, 'precio': 70.44}]\n",
      "bad row []\n",
      "bad row []\n",
      "{'Lima': 40.22, 'Uva': 24.85, 'Ciruela': 44.85, 'Cereza': 11.27, 'Frutilla': 53.72, 'Caqui': 105.46, 'Tomate': 66.67, 'Berenjena': 28.47, 'Lechuga': 24.22, 'Durazno': 73.48, 'Remolacha': 20.75, 'Habas': 23.16, 'Frambuesa': 34.35, 'Naranja': 106.28, 'Bruselas': 15.72, 'Batata': 55.16, 'Rúcula': 36.9, 'Radicheta': 26.11, 'Repollo': 49.16, 'Cebolla': 58.99, 'Cebollín': 57.1, 'Puerro': 27.58, 'Mandarina': 80.89, 'Ajo': 15.19, 'Rabanito': 51.94, 'Zapallo': 24.79, 'Espinaca': 52.61, 'Acelga': 29.26, 'Zanahoria': 49.74, 'Papa': 69.35}\n",
      "106.28\n",
      "80.89\n",
      "{'nombre': 'Naranja', 'fecha': '6/9/2020', 'hora': '3:15pm', 'cajones': '100', 'precio': '70.44'}\n",
      "bad row []\n",
      "bad row []\n",
      "{'Lima': 40.22, 'Uva': 24.85, 'Ciruela': 44.85, 'Cereza': 11.27, 'Frutilla': 53.72, 'Caqui': 105.46, 'Tomate': 66.67, 'Berenjena': 28.47, 'Lechuga': 24.22, 'Durazno': 73.48, 'Remolacha': 20.75, 'Habas': 23.16, 'Frambuesa': 34.35, 'Naranja': 106.28, 'Bruselas': 15.72, 'Batata': 55.16, 'Rúcula': 36.9, 'Radicheta': 26.11, 'Repollo': 49.16, 'Cebolla': 58.99, 'Cebollín': 57.1, 'Puerro': 27.58, 'Mandarina': 80.89, 'Ajo': 15.19, 'Rabanito': 51.94, 'Zapallo': 24.79, 'Espinaca': 52.61, 'Acelga': 29.26, 'Zanahoria': 49.74, 'Papa': 69.35}\n",
      "[('Lima', 100, 40.22, 8.019999999999996), ('Naranja', 50, 106.28, 15.180000000000007), ('Caqui', 150, 105.46, 2.019999999999996), ('Mandarina', 200, 80.89, 29.660000000000004), ('Durazno', 95, 73.48, 33.11000000000001), ('Mandarina', 50, 80.89, 15.790000000000006), ('Naranja', 100, 106.28, 35.84)]\n",
      "8.019999999999996\n"
     ]
    },
    {
     "ename": "IndexError",
     "evalue": "list index out of range",
     "output_type": "error",
     "traceback": [
      "\u001b[0;31m---------------------------------------------------------------------------\u001b[0m",
      "\u001b[0;31mIndexError\u001b[0m                                Traceback (most recent call last)",
      "Cell \u001b[0;32mIn [19], line 76\u001b[0m\n\u001b[1;32m     74\u001b[0m i \u001b[39m=\u001b[39m \u001b[39m0\u001b[39m\n\u001b[1;32m     75\u001b[0m \u001b[39mwhile\u001b[39;00m i \u001b[39m<\u001b[39m \u001b[39mlen\u001b[39m(bal):    \n\u001b[0;32m---> 76\u001b[0m     dif\u001b[39m.\u001b[39mappend(bal([i][\u001b[39m3\u001b[39;49m]))\n\u001b[1;32m     77\u001b[0m     i \u001b[39m+\u001b[39m\u001b[39m=\u001b[39m \u001b[39m1\u001b[39m\n\u001b[1;32m     78\u001b[0m \u001b[39mprint\u001b[39m(dif)\n",
      "\u001b[0;31mIndexError\u001b[0m: list index out of range"
     ]
    }
   ],
   "source": [
    "# quiero modificar 2.18 con el metodo de arriba para que no quede 'hardcodeado' las variables, para que elija las columnas a partir de sus encabezados\n",
    "\n",
    "#con los precios del camión (2.16) y los de venta en el negocio (2.17) calcule lo que costó el camión, lo que se recaudó con la venta, y la diferencia. ¿Hubo ganancia o pérdida? El programa debe imprimir por pantalla un balance con estos datos.\n",
    "\n",
    "import csv\n",
    "from pprint import pprint\n",
    "\n",
    "def leer_camion(nombre_archivo):\n",
    "    camion = []\n",
    "    with open(nombre_archivo, 'rt') as f:\n",
    "        rows = csv.reader(f)\n",
    "        headers = next(rows)\n",
    "        for row in rows:\n",
    "            record = dict(zip(headers,row))\n",
    "            stock = {\n",
    "                'nombre' : record['nombre'],\n",
    "                'cajones' : int(record['cajones']),\n",
    "                'precio' : float(record['precio'])\n",
    "            }\n",
    "            camion.append(stock) \n",
    "        print(record)\n",
    "    return camion\n",
    "\n",
    "camion = leer_camion('camion.csv')\n",
    "print(camion)\n",
    "\n",
    "#print(camion[1]['cajones'])\n",
    "\n",
    "#print(camion[1])\n",
    "\n",
    "\n",
    "def leer_precios(nombre_archivo):\n",
    "        precios = {}        \n",
    "        with open(nombre_archivo) as f:\n",
    "            rows = csv.reader(f)\n",
    "            for row in rows:\n",
    "                try:\n",
    "                    precios[row[0]] = float(row[1])\n",
    "                                      \n",
    "                except IndexError:\n",
    "                    print('bad row', row)\n",
    "            print(precios)  \n",
    "        return precios\n",
    "        \n",
    "precios = leer_precios('precios.csv')\n",
    "\n",
    "print(precios['Naranja'])\n",
    "print(precios['Mandarina'])\n",
    "\n",
    "\n",
    "def balance(camion, precios):\n",
    "    rows = []\n",
    "    for stock in camion:\n",
    "        precio_actual = precios[stock['nombre']]\n",
    "        variacion = precio_actual - stock['precio']\n",
    "        resumen = (stock['nombre'], stock['cajones'], precio_actual, variacion)\n",
    "        rows.append(resumen)\n",
    "    return rows\n",
    "\n",
    "\n",
    "camion = leer_camion('fecha_camion.csv') #lee otro archivo\n",
    "precios = leer_precios('precios.csv')\n",
    "\n",
    "bal = balance(camion, precios)\n",
    "print(bal)\n",
    "\n",
    "print(bal[0][3])\n",
    "\n",
    "\n",
    "\"\"\" fru, cant, prec, var = bal\n",
    "print(fru) \"\"\" # tampoco la puedo desempaquetar??\n",
    "\n",
    "dif = []\n",
    "i = 0\n",
    "while i < len(bal):    \n",
    "    dif.append(bal([i][3]))\n",
    "    i += 1\n",
    "print(dif)  \n",
    "\n",
    "# no veo por que no puedo sumar el tercer elemento de cada tupla ???\n",
    "\n",
    "# desarmar la tupla y sumar ?\n",
    "\n",
    "#print([sum(i[3]) for i in bal])"
   ]
  }
 ],
 "metadata": {
  "kernelspec": {
   "display_name": "Python 3.10.8 64-bit",
   "language": "python",
   "name": "python3"
  },
  "language_info": {
   "codemirror_mode": {
    "name": "ipython",
    "version": 3
   },
   "file_extension": ".py",
   "mimetype": "text/x-python",
   "name": "python",
   "nbconvert_exporter": "python",
   "pygments_lexer": "ipython3",
   "version": "3.10.8"
  },
  "orig_nbformat": 4,
  "vscode": {
   "interpreter": {
    "hash": "e7370f93d1d0cde622a1f8e1c04877d8463912d04d973331ad4851f04de6915a"
   }
  }
 },
 "nbformat": 4,
 "nbformat_minor": 2
}
