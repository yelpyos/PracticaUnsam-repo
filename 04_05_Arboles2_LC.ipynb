{
 "cells": [
  {
   "cell_type": "code",
   "execution_count": 1,
   "metadata": {},
   "outputs": [],
   "source": [
    "# Ex 4.15\n",
    "import csv\n",
    "\n",
    "def leer_parque(nombre_archivo):\n",
    "    f = open(nombre_archivo)\n",
    "    rows = csv.reader(f)\n",
    "    headers = next(rows)\n",
    "    row = next(rows)\n",
    "    \n",
    "    for row in rows:\n",
    "            record = dict(zip(headers,row))\n",
    "            arboles.append(record)\n",
    "    #print(arboles)   \n",
    "    par = arboles[parque]\n",
    "            \n",
    "    return par\n",
    "            \n",
    "            \n",
    "park = leer_parque('arbolado-en-espacios-verdes.csv','DE LAS VICTORIAS')  \n",
    "print(park)\n",
    "            \n",
    "            "
   ]
  }
 ],
 "metadata": {
  "kernelspec": {
   "display_name": "Python 3.10.8 64-bit",
   "language": "python",
   "name": "python3"
  },
  "language_info": {
   "codemirror_mode": {
    "name": "ipython",
    "version": 3
   },
   "file_extension": ".py",
   "mimetype": "text/x-python",
   "name": "python",
   "nbconvert_exporter": "python",
   "pygments_lexer": "ipython3",
   "version": "3.10.8"
  },
  "orig_nbformat": 4,
  "vscode": {
   "interpreter": {
    "hash": "e7370f93d1d0cde622a1f8e1c04877d8463912d04d973331ad4851f04de6915a"
   }
  }
 },
 "nbformat": 4,
 "nbformat_minor": 2
}
