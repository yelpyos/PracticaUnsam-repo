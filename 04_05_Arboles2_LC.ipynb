{
 "cells": [
  {
   "cell_type": "code",
   "execution_count": 5,
   "metadata": {},
   "outputs": [],
   "source": [
    "# Ex 4.15\n",
    "import csv\n",
    "\n",
    "def leer_arboles(nombre_archivo):\n",
    "    f = open(nombre_archivo)\n",
    "    rows = csv.reader(f)\n",
    "    headers = next(rows)\n",
    "    row = next(rows)\n",
    "    arboleda = []\n",
    "    for row in rows:\n",
    "            record = dict(zip(headers,row))\n",
    "            arboleda.append(record)\n",
    "    #print(arboles)   \n",
    "    #par = arboles[parque]\n",
    "            \n",
    "    return arboleda\n",
    "            \n",
    "            \n",
    "arboleda = leer_arboles('arbolado-en-espacios-verdes.csv')  \n",
    "#print(arboleda)\n",
    "            \n",
    "# Ex 4.16\n",
    "\n",
    "altura = [float(arbol['altura_tot']) for arbol in arboleda]\n",
    "\n",
    "#print(altura)\n",
    "\n",
    "# 4.17\n",
    "\n",
    "alt_diam = [(float(arbol['altura_tot']), float(arbol['diametro'])) for arbol in arboleda]        \n",
    "\n",
    "#print(alt_diam)\n",
    "\n",
    "            "
   ]
  },
  {
   "cell_type": "code",
   "execution_count": 10,
   "metadata": {},
   "outputs": [
    {
     "name": "stdout",
     "output_type": "stream",
     "text": [
      "{'Eucalipto': (6.0, 35.0), 'Palo borracho rosado': (6.0, 35.0), 'Jacarandá': (17.0, 50.0)}\n"
     ]
    }
   ],
   "source": [
    "# Ex 4.18\n",
    "\n",
    "def medidas_de_especies(especies, arboleda):\n",
    "    \n",
    "    \n",
    "    dict = {especie: index for especie, index in zip(especies, alt_diam)}\n",
    "    \n",
    "    return dict\n",
    "\n",
    "\n",
    "especies = ['Eucalipto', 'Palo borracho rosado', 'Jacarandá']\n",
    "\n",
    "\n",
    "meds = medidas_de_especies(especies, arboleda)\n",
    "print(meds)"
   ]
  }
 ],
 "metadata": {
  "kernelspec": {
   "display_name": "Python 3.10.8 64-bit",
   "language": "python",
   "name": "python3"
  },
  "language_info": {
   "codemirror_mode": {
    "name": "ipython",
    "version": 3
   },
   "file_extension": ".py",
   "mimetype": "text/x-python",
   "name": "python",
   "nbconvert_exporter": "python",
   "pygments_lexer": "ipython3",
   "version": "3.10.8"
  },
  "orig_nbformat": 4,
  "vscode": {
   "interpreter": {
    "hash": "e7370f93d1d0cde622a1f8e1c04877d8463912d04d973331ad4851f04de6915a"
   }
  }
 },
 "nbformat": 4,
 "nbformat_minor": 2
}
