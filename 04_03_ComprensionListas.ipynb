{
 "cells": [
  {
   "cell_type": "code",
   "execution_count": 7,
   "metadata": {},
   "outputs": [
    {
     "name": "stdout",
     "output_type": "stream",
     "text": [
      "[('Lima', 100, 32.2), ('Naranja', 50, 91.1), ('Caqui', 150, 103.44), ('Mandarina', 200, 51.23), ('Durazno', 95, 40.37), ('Mandarina', 50, 65.1), ('Naranja', 100, 70.44)]\n",
      "('Lima', 100, 32.2)\n",
      "50\n",
      "47671.15\n"
     ]
    }
   ],
   "source": [
    "# Ex. 4.7 \n",
    "\n",
    "# Copia Ex 2.15\n",
    "\n",
    "import csv\n",
    "\n",
    "def leer_camion(nombre_archivo):\n",
    "    camion = []\n",
    "    with open(nombre_archivo, 'rt') as f:\n",
    "        rows = csv.reader(f)\n",
    "        headers = next(rows)\n",
    "        for row in rows:\n",
    "            lote = (row[0], int(row[1]), float(row[2]))\n",
    "            camion.append(lote)\n",
    "    return camion\n",
    "\n",
    "camion = leer_camion('camion.csv')\n",
    "print(camion)\n",
    "print(camion[0])\n",
    "print(camion[1][1])\n",
    "\n",
    "total = 0.0\n",
    "for s in camion:\n",
    "    total += s[1] * s[2] # P*Q en las tuplas\n",
    "print(total)\n"
   ]
  },
  {
   "cell_type": "code",
   "execution_count": 8,
   "metadata": {},
   "outputs": [
    {
     "name": "stdout",
     "output_type": "stream",
     "text": [
      "[{'nombre': 'Lima', 'cajones': 100, 'precio': 32.2}, {'nombre': 'Naranja', 'cajones': 50, 'precio': 91.1}, {'nombre': 'Caqui', 'cajones': 150, 'precio': 103.44}, {'nombre': 'Mandarina', 'cajones': 200, 'precio': 51.23}, {'nombre': 'Durazno', 'cajones': 95, 'precio': 40.37}, {'nombre': 'Mandarina', 'cajones': 50, 'precio': 65.1}, {'nombre': 'Naranja', 'cajones': 100, 'precio': 70.44}]\n",
      "47671.15\n",
      "{'nombre': 'Naranja', 'cajones': 50, 'precio': 91.1}\n"
     ]
    }
   ],
   "source": [
    "# Copia Ex 2.16\n",
    "\n",
    "# ahora la quiero guardar como diccionario\n",
    "\n",
    "import csv\n",
    "from pprint import pprint\n",
    "\n",
    "def leer_camion(nombre_archivo):\n",
    "    camion = []\n",
    "    with open(nombre_archivo, 'rt') as f:\n",
    "        rows = csv.reader(f)\n",
    "        headers = next(rows)\n",
    "        for row in rows:\n",
    "            record = dict(zip(headers,row))\n",
    "            stock = {\n",
    "                'nombre' : record['nombre'],\n",
    "                'cajones' : int(record['cajones']),\n",
    "                'precio' : float(record['precio'])\n",
    "            }\n",
    "                                  \n",
    "            #stock = {\n",
    "            #    'nombre' : row[0],\n",
    "            #    'cajones' : int(row[1]),\n",
    "            #    'precio' : float(row[2])\n",
    "            #}\n",
    "            \n",
    "            camion.append(stock)\n",
    "        #print(camion)\n",
    "    return camion\n",
    "\n",
    "camion = leer_camion('camion.csv')\n",
    "print(camion)\n",
    "\n",
    "#print(camion[1]['cajones'])\n",
    "\n",
    "total = 0.0\n",
    "for s in camion:\n",
    "    total += s['cajones']*s['precio']\n",
    "print(total)\n",
    "\n",
    "print(camion[1])"
   ]
  },
  {
   "cell_type": "code",
   "execution_count": 9,
   "metadata": {},
   "outputs": [
    {
     "name": "stdout",
     "output_type": "stream",
     "text": [
      "bad row []\n",
      "bad row []\n",
      "106.28\n",
      "80.89\n"
     ]
    }
   ],
   "source": [
    "# Copia Ex 2.17\n",
    "# quiero un dict que contenga todos los productos\n",
    "import csv\n",
    "from pprint import pprint\n",
    "\n",
    "def leer_precios(nombre_archivo):\n",
    "        precios = {}        \n",
    "        with open(nombre_archivo) as f:\n",
    "            rows = csv.reader(f)\n",
    "            for row in rows:\n",
    "                try:\n",
    "                    precios[row[0]] = float(row[1])\n",
    "                    \n",
    "                    \"\"\"if row == []:\n",
    "                        pass\n",
    "                    else:\n",
    "                        k, v = row\n",
    "                        d[k] = v\"\"\"\n",
    "                    \n",
    "                except IndexError:\n",
    "                    print('bad row', row)\n",
    "            #print(precios)  \n",
    "        return precios\n",
    "\n",
    "        \"\"\" try:\n",
    "                quantity = int(row[1])\n",
    "                price = float(row[2])\n",
    "                total_cost += quantity * price                \n",
    "            except ValueError:\n",
    "                print('Bad row', row) \"\"\"\n",
    "\n",
    "precios = leer_precios('precios.csv')\n",
    "\n",
    "print(precios['Naranja'])\n",
    "print(precios['Mandarina'])\n"
   ]
  },
  {
   "cell_type": "code",
   "execution_count": 10,
   "metadata": {},
   "outputs": [
    {
     "name": "stdout",
     "output_type": "stream",
     "text": [
      "47671.15\n",
      "bad row []\n",
      "bad row []\n",
      "62986.1\n"
     ]
    }
   ],
   "source": [
    "# Ex 4.8\n",
    "\n",
    "camion = leer_camion('camion.csv')\n",
    "costo = sum([s['cajones'] * s['precio'] for s in camion])\n",
    "print(costo)\n",
    "\n",
    "precios = leer_precios('precios.csv')\n",
    "valor = sum([s['cajones'] * precios[s['nombre']] for s in camion])\n",
    "print(valor)\n"
   ]
  },
  {
   "cell_type": "code",
   "execution_count": 13,
   "metadata": {},
   "outputs": [
    {
     "name": "stdout",
     "output_type": "stream",
     "text": [
      "[{'nombre': 'Caqui', 'cajones': 150, 'precio': 103.44}, {'nombre': 'Mandarina', 'cajones': 200, 'precio': 51.23}]\n",
      "[{'nombre': 'Naranja', 'cajones': 50, 'precio': 91.1}, {'nombre': 'Mandarina', 'cajones': 200, 'precio': 51.23}, {'nombre': 'Mandarina', 'cajones': 50, 'precio': 65.1}, {'nombre': 'Naranja', 'cajones': 100, 'precio': 70.44}]\n",
      "[{'nombre': 'Caqui', 'cajones': 150, 'precio': 103.44}, {'nombre': 'Mandarina', 'cajones': 200, 'precio': 51.23}]\n"
     ]
    }
   ],
   "source": [
    "# Ex 4.9 \n",
    "#algunas manipulaciones\n",
    "\n",
    "mas100 = [s for s in camion if s['cajones'] > 100]\n",
    "print(mas100)\n",
    "\n",
    "myn = [s for s in camion if s['nombre'] in {'Mandarina','Naranja'}]\n",
    "print(myn)\n",
    "\n",
    "costo10k = [s for s in camion if s['cajones'] * s['precio'] > 10000]\n",
    "print(costo10k)"
   ]
  },
  {
   "cell_type": "code",
   "execution_count": 18,
   "metadata": {},
   "outputs": [
    {
     "name": "stdout",
     "output_type": "stream",
     "text": [
      "['nombre', 'fecha', 'hora', 'cajones', 'precio']\n",
      "[0, 3, 4]\n",
      "{'nombre': 'Lima', 'cajones': '100', 'precio': '32.2'}\n",
      "[{'nombre': 'Naranja', 'cajones': '50', 'precio': '91.1'}, {'nombre': 'Caqui', 'cajones': '150', 'precio': '103.44'}, {'nombre': 'Mandarina', 'cajones': '200', 'precio': '51.23'}, {'nombre': 'Durazno', 'cajones': '95', 'precio': '40.37'}, {'nombre': 'Mandarina', 'cajones': '50', 'precio': '65.1'}, {'nombre': 'Naranja', 'cajones': '100', 'precio': '70.44'}]\n"
     ]
    }
   ],
   "source": [
    "# Ej 4.11\n",
    "\n",
    "import csv\n",
    "\n",
    "f = open('fecha_camion.csv')\n",
    "rows = csv.reader(f)\n",
    "headers = next(rows)\n",
    "print(headers)\n",
    "\n",
    "select = ['nombre', 'cajones', 'precio'] # tomo columnas\n",
    "indices = [headers.index(ncolumna) for ncolumna in select]  # me fijo el indice de las columnas que tome\n",
    "print(indices)\n",
    "\n",
    "# armo dict por comprension \n",
    "row = next(rows)\n",
    "record = {ncolumna: row[index] for ncolumna, index in zip(select, indices)}\n",
    "print(record)\n",
    "\n",
    "# reduzco la f leer_camion() a un solo comando\n",
    "camion = [{ncolumna: row[index] for ncolumna, index in zip(select, indices)} for row in rows]\n",
    "print(camion)"
   ]
  }
 ],
 "metadata": {
  "kernelspec": {
   "display_name": "Python 3.10.8 64-bit",
   "language": "python",
   "name": "python3"
  },
  "language_info": {
   "codemirror_mode": {
    "name": "ipython",
    "version": 3
   },
   "file_extension": ".py",
   "mimetype": "text/x-python",
   "name": "python",
   "nbconvert_exporter": "python",
   "pygments_lexer": "ipython3",
   "version": "3.10.8"
  },
  "orig_nbformat": 4,
  "vscode": {
   "interpreter": {
    "hash": "e7370f93d1d0cde622a1f8e1c04877d8463912d04d973331ad4851f04de6915a"
   }
  }
 },
 "nbformat": 4,
 "nbformat_minor": 2
}
