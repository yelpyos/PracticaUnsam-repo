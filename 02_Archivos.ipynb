{
 "cells": [
  {
   "cell_type": "code",
   "execution_count": 27,
   "metadata": {},
   "outputs": [
    {
     "data": {
      "text/plain": [
       "'nombre,cajones,precio\\n'"
      ]
     },
     "execution_count": 27,
     "metadata": {},
     "output_type": "execute_result"
    }
   ],
   "source": [
    "f = open('camion.csv', 'rt') # ej 2.1\n",
    "headers = next(f)\n",
    "headers"
   ]
  },
  {
   "cell_type": "code",
   "execution_count": 28,
   "metadata": {},
   "outputs": [
    {
     "data": {
      "text/plain": [
       "['nombre', 'cajones', 'precio\\n']"
      ]
     },
     "execution_count": 28,
     "metadata": {},
     "output_type": "execute_result"
    }
   ],
   "source": [
    "f.close() \n",
    "f = open('camion.csv', 'rt')\n",
    "headers = next(f).split(',')\n",
    "headers"
   ]
  },
  {
   "cell_type": "code",
   "execution_count": 29,
   "metadata": {},
   "outputs": [
    {
     "name": "stdout",
     "output_type": "stream",
     "text": [
      "['Lima', '100', '32.2\\n']\n",
      "['Naranja', '50', '91.1\\n']\n",
      "['Caqui', '150', '103.44\\n']\n",
      "['Mandarina', '200', '51.23\\n']\n",
      "['Durazno', '95', '40.37\\n']\n",
      "['Mandarina', '50', '65.1\\n']\n",
      "['Naranja', '100', '70.44\\n']\n"
     ]
    }
   ],
   "source": [
    "for line in f:\n",
    "    row = line.split(',')\n",
    "    print(row)\n"
   ]
  },
  {
   "cell_type": "code",
   "execution_count": 133,
   "metadata": {},
   "outputs": [],
   "source": [
    "       # ej 2.2\n",
    "import numpy as np\n",
    "a = []\n",
    "f = open('camion.csv', 'rt')\n",
    "headers = next(f).split(',')\n",
    "#print(headers)\n",
    "for line in f:\n",
    "    row = line.split(',')\n",
    "    #row = next(f).split(',')\n",
    "    #print(row)\n",
    "\n",
    "for i, elem in enumerate(f):\n",
    "    print(i)\n",
    "# for i in row:   #mal\n",
    "#     b = a.append(i[2])\n",
    "#     print(b)\n",
    "    \n",
    "# b = sum(x[-1] for x in row)\n",
    "#sum(x[-1] for x in myList)\n",
    "\n",
    "# SIGO PQ NO ME QUEDA CLARO\n",
    "\n",
    "f.close()"
   ]
  },
  {
   "cell_type": "code",
   "execution_count": null,
   "metadata": {},
   "outputs": [],
   "source": []
  }
 ],
 "metadata": {
  "kernelspec": {
   "display_name": "Python 3.10.5 64-bit",
   "language": "python",
   "name": "python3"
  },
  "language_info": {
   "codemirror_mode": {
    "name": "ipython",
    "version": 3
   },
   "file_extension": ".py",
   "mimetype": "text/x-python",
   "name": "python",
   "nbconvert_exporter": "python",
   "pygments_lexer": "ipython3",
   "version": "3.10.6"
  },
  "orig_nbformat": 4,
  "vscode": {
   "interpreter": {
    "hash": "e7370f93d1d0cde622a1f8e1c04877d8463912d04d973331ad4851f04de6915a"
   }
  }
 },
 "nbformat": 4,
 "nbformat_minor": 2
}
