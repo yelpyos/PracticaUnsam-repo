{
 "cells": [
  {
   "cell_type": "code",
   "execution_count": 63,
   "metadata": {},
   "outputs": [
    {
     "name": "stdout",
     "output_type": "stream",
     "text": [
      "False\n",
      "True\n",
      "False\n",
      "10\n",
      "11\n",
      "31\n"
     ]
    }
   ],
   "source": [
    "### Ejercicio 3.1: Semántica\n",
    "\n",
    "def tiene_a(expresion):\n",
    "    n = len(expresion)\n",
    "    i = 0\n",
    "    while i < n:\n",
    "        if expresion[i] == 'a':\n",
    "            #print(i)\n",
    "            return True\n",
    "            i += 1\n",
    "        \n",
    "        else:\n",
    "\n",
    "            return False\n",
    "        #i += 1    \n",
    "\n",
    "        #print(i)    \n",
    "\n",
    "\n",
    "print(repr(tiene_a('UNSAM 2020')))\n",
    "print(repr(tiene_a('abracadabra')))\n",
    "print(repr(tiene_a('La novela 1984 de George Orwell')))\n",
    "print(len('UNSAM 2020'))\n",
    "print(len('abracadabra'))\n",
    "print(len('La novela 1984 de George Orwell'))\n",
    "# ???"
   ]
  },
  {
   "cell_type": "code",
   "execution_count": 35,
   "metadata": {},
   "outputs": [
    {
     "name": "stdout",
     "output_type": "stream",
     "text": [
      "False\n",
      "True\n"
     ]
    }
   ],
   "source": [
    "### Ejercicio 3.2: Sintaxis\n",
    "\n",
    "def tiene_a(expresion):\n",
    "    n = len(expresion)\n",
    "    i = 0\n",
    "    while i<n:\n",
    "        if expresion[i] == 'a':\n",
    "            return True\n",
    "\n",
    "        i += 1\n",
    "    return False\n",
    "\n",
    "print(repr(tiene_a('UNSAM 2020')))\n",
    "print(repr(tiene_a('La novela 1984 de George Orwell')))"
   ]
  },
  {
   "cell_type": "code",
   "execution_count": 66,
   "metadata": {},
   "outputs": [
    {
     "name": "stdout",
     "output_type": "stream",
     "text": [
      "True\n",
      "True\n"
     ]
    },
    {
     "ename": "TypeError",
     "evalue": "object of type 'int' has no len()",
     "output_type": "error",
     "traceback": [
      "\u001b[0;31m---------------------------------------------------------------------------\u001b[0m",
      "\u001b[0;31mTypeError\u001b[0m                                 Traceback (most recent call last)",
      "Cell \u001b[0;32mIn [66], line 16\u001b[0m\n\u001b[1;32m     14\u001b[0m \u001b[39mprint\u001b[39m(\u001b[39mrepr\u001b[39m(tiene_uno(\u001b[39m'\u001b[39m\u001b[39mUNSAM 2020\u001b[39m\u001b[39m'\u001b[39m)))\n\u001b[1;32m     15\u001b[0m \u001b[39mprint\u001b[39m(\u001b[39mrepr\u001b[39m(tiene_uno(\u001b[39m'\u001b[39m\u001b[39mLa novela 1984 de George Orwell\u001b[39m\u001b[39m'\u001b[39m)))\n\u001b[0;32m---> 16\u001b[0m \u001b[39mprint\u001b[39m(tiene_uno(\u001b[39m1984\u001b[39;49m))\n",
      "Cell \u001b[0;32mIn [66], line 4\u001b[0m, in \u001b[0;36mtiene_uno\u001b[0;34m(expresion)\u001b[0m\n\u001b[1;32m      3\u001b[0m \u001b[39mdef\u001b[39;00m \u001b[39mtiene_uno\u001b[39m(expresion):\n\u001b[0;32m----> 4\u001b[0m     n \u001b[39m=\u001b[39m \u001b[39mlen\u001b[39;49m(expresion)\n\u001b[1;32m      5\u001b[0m     i \u001b[39m=\u001b[39m \u001b[39m0\u001b[39m\n\u001b[1;32m      6\u001b[0m     tiene \u001b[39m=\u001b[39m \u001b[39mFalse\u001b[39;00m\n",
      "\u001b[0;31mTypeError\u001b[0m: object of type 'int' has no len()"
     ]
    }
   ],
   "source": [
    "### Ejercicio 3.3: Tipos\n",
    "\n",
    "def tiene_uno(expresion):\n",
    "    n = len(expresion)\n",
    "    i = 0\n",
    "    tiene = False\n",
    "    while (i<n) and not tiene:\n",
    "        if expresion[i] is not 1:\n",
    "            tiene = True\n",
    "        i += 1\n",
    "    return tiene\n",
    "\n",
    "\n",
    "print(repr(tiene_uno('UNSAM 2020')))\n",
    "print(repr(tiene_uno('La novela 1984 de George Orwell')))\n",
    "print(tiene_uno(1984))\n",
    "\n",
    "\n",
    "# NO LO VEO, REVISAR !!!"
   ]
  }
 ],
 "metadata": {
  "kernelspec": {
   "display_name": "Python 3.10.8 64-bit",
   "language": "python",
   "name": "python3"
  },
  "language_info": {
   "codemirror_mode": {
    "name": "ipython",
    "version": 3
   },
   "file_extension": ".py",
   "mimetype": "text/x-python",
   "name": "python",
   "nbconvert_exporter": "python",
   "pygments_lexer": "ipython3",
   "version": "3.10.8"
  },
  "orig_nbformat": 4,
  "vscode": {
   "interpreter": {
    "hash": "e7370f93d1d0cde622a1f8e1c04877d8463912d04d973331ad4851f04de6915a"
   }
  }
 },
 "nbformat": 4,
 "nbformat_minor": 2
}
