{
 "cells": [
  {
   "cell_type": "code",
   "execution_count": 153,
   "metadata": {},
   "outputs": [
    {
     "name": "stdout",
     "output_type": "stream",
     "text": [
      "False\n"
     ]
    }
   ],
   "source": [
    "import random\n",
    "\n",
    "\"\"\" tirada = []\n",
    "for i in range(5):\n",
    "    tirada.append(random.randint(1,6))\n",
    "print(tirada)\n",
    " \"\"\"\n",
    "# Ex 5.1\n",
    "\n",
    "def tirar():\n",
    "    tirada = []\n",
    "    for i in range(5):\n",
    "        tirada.append(random.randint(1,6))\n",
    "    return tirada\n",
    "\n",
    "#print(tirar())\n",
    "\n",
    "def es_generala(tirada):\n",
    "    #first_el = tirada[0]\n",
    "    #print(tirada)\n",
    "    return all(i == tirada[0] for i in tirada)\n",
    "    # la hice al final con esta sola linea\n",
    "    \"\"\" print(tirada)\n",
    "    for num in tirada:\n",
    "        if first_el != num:\n",
    "            return False\n",
    "            break\n",
    "        else:\n",
    "            return True\n",
    "     \"\"\"\n",
    "#print(tirar())\n",
    "gen = es_generala(tirar())\n",
    "print(gen)\n",
    "\n",
    "\n",
    "\n"
   ]
  },
  {
   "cell_type": "code",
   "execution_count": 154,
   "metadata": {},
   "outputs": [
    {
     "name": "stdout",
     "output_type": "stream",
     "text": [
      "Tiré 10000 veces, de las cuales 7 saqué generala servida.\n",
      "Podemos estimar la probabilidad de sacar generala servida mediante 0.000700.\n"
     ]
    }
   ],
   "source": [
    "N = 10000\n",
    "G = sum([es_generala(tirar()) for i in range(N)])\n",
    "prob = G/N\n",
    "print(f'Tiré {N} veces, de las cuales {G} saqué generala servida.')\n",
    "print(f'Podemos estimar la probabilidad de sacar generala servida mediante {prob:.6f}.')\n"
   ]
  },
  {
   "cell_type": "code",
   "execution_count": 155,
   "metadata": {},
   "outputs": [
    {
     "name": "stdout",
     "output_type": "stream",
     "text": [
      "[False, False]\n",
      "[False, False]\n",
      "[False, False]\n",
      "[False, False]\n",
      "[False, False]\n",
      "[False, False]\n",
      "[False, False]\n",
      "[False, False]\n",
      "[False, False]\n",
      "[False, False]\n",
      "4.5\n"
     ]
    }
   ],
   "source": [
    "# Ex 5.2\n",
    "\n",
    "def prob_generala(N):\n",
    "    # devolver la probabilidad de obtener gen en una mano de tres tiradas para N manos\n",
    "    tir = []\n",
    "    for n in range(N):\n",
    "        t = [es_generala(tirar()) for i in range(2)]\n",
    "        print(t)\n",
    "        prim_el = t[0]\n",
    "        if all(v == t[0] for v in t):\n",
    "            tir.append(t)\n",
    "    #print(tir)\n",
    "    #print(range(len(tir)))\n",
    "    G = sum(range(len(tir)))\n",
    "    #print(G)\n",
    "    prob = G/N\n",
    "    \n",
    "    return prob\n",
    "\n",
    "print(prob_generala(10))\n",
    "\n",
    "# REVISAR"
   ]
  },
  {
   "cell_type": "code",
   "execution_count": 1,
   "metadata": {},
   "outputs": [
    {
     "name": "stdout",
     "output_type": "stream",
     "text": [
      "[5, 3, 4, 1, 5]\n",
      "range(0, 100)\n",
      "range(0, 5)\n",
      "cinco\n",
      "['seis', 'uno', 'seis', 'cinco', 'tres']\n"
     ]
    }
   ],
   "source": [
    "import random\n",
    "random.seed(31415)\n",
    "\n",
    "tirada=[]\n",
    "for i in range(5):\n",
    "    tirada.append(random.randint(1,6)) \n",
    "\n",
    "print(tirada)\n",
    "\n",
    "N = 100\n",
    "print(range(N))\n",
    "print(range(5))\n",
    "\n",
    "caras = ['uno', 'dos', 'tres', 'cuatro', 'cinco', 'seis']\n",
    "print(random.choice(caras))\n",
    "print(random.choices(caras,k=5))\n"
   ]
  },
  {
   "cell_type": "code",
   "execution_count": null,
   "metadata": {},
   "outputs": [],
   "source": []
  }
 ],
 "metadata": {
  "kernelspec": {
   "display_name": "Python 3.10.8 64-bit",
   "language": "python",
   "name": "python3"
  },
  "language_info": {
   "codemirror_mode": {
    "name": "ipython",
    "version": 3
   },
   "file_extension": ".py",
   "mimetype": "text/x-python",
   "name": "python",
   "nbconvert_exporter": "python",
   "pygments_lexer": "ipython3",
   "version": "3.10.8"
  },
  "orig_nbformat": 4,
  "vscode": {
   "interpreter": {
    "hash": "e7370f93d1d0cde622a1f8e1c04877d8463912d04d973331ad4851f04de6915a"
   }
  }
 },
 "nbformat": 4,
 "nbformat_minor": 2
}
