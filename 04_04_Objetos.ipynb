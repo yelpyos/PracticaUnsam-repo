{
 "cells": [
  {
   "cell_type": "code",
   "execution_count": 21,
   "metadata": {},
   "outputs": [
    {
     "name": "stdout",
     "output_type": "stream",
     "text": [
      "['Lima', '100', '32.2']\n",
      "[<built-in function abs>, <module 'math' from '/usr/lib/python3.10/lib-dynload/math.cpython-310-x86_64-linux-gnu.so'>, <class 'ValueError'>]\n",
      "Failed\n",
      "[(<class 'str'>, 'Lima'), (<class 'int'>, '100'), (<class 'float'>, '32.2')]\n",
      "['Lima', 100, 32.2]\n"
     ]
    },
    {
     "data": {
      "text/plain": [
       "{'nombre': 'Lima', 'cajones': 100, 'precio': 32.2}"
      ]
     },
     "execution_count": 21,
     "metadata": {},
     "output_type": "execute_result"
    }
   ],
   "source": [
    "import csv \n",
    "import math\n",
    "\n",
    "f = open('camion.csv')\n",
    "rows = csv.reader(f)\n",
    "headers = next(rows)\n",
    "row = next(rows)\n",
    "\n",
    "print(row)\n",
    "\n",
    "items = [abs, math, ValueError]\n",
    "print (items)\n",
    "\n",
    "items[1].sqrt(2)\n",
    "\n",
    "try:\n",
    "    x = int('not a number')\n",
    "except items[2]:\n",
    "    print('Failed')\n",
    "\n",
    "# Ex 4.12\n",
    "\n",
    "types = [str, int, float]\n",
    "\n",
    "types[1](row[1]) # = a int(row[1])\n",
    "types[1](row[1])*types[2](row[2])\n",
    "\n",
    "r = list(zip(types, row))\n",
    "print(r)\n",
    "\n",
    "converted = []\n",
    "for func, val in zip(types, row):\n",
    "    converted.append(func(val))\n",
    "print(converted)\n",
    "\n",
    "# Ex 4.13\n",
    "\n",
    "{name: func(val) for name, func, val in zip(headers,types,row)}\n",
    "\n",
    "# por extension: en una linea aplico la funcion mientras creo el diccionario\n",
    "\n"
   ]
  },
  {
   "cell_type": "code",
   "execution_count": 24,
   "metadata": {},
   "outputs": [
    {
     "name": "stdout",
     "output_type": "stream",
     "text": [
      "['name', 'price', 'date', 'time', 'change', 'open', 'high', 'low', 'volume']\n",
      "['AA', '39.48', '6/11/2007', '9:36am', '-0.18', '39.67', '39.69', '39.45', '181800']\n",
      "['AA', 39.48, '6/11/2007', '9:36am', -0.18, 39.67, 39.69, 39.45, 181800]\n",
      "{'name': 'AA', 'price': 39.48, 'date': '6/11/2007', 'time': '9:36am', 'change': -0.18, 'open': 39.67, 'high': 39.69, 'low': 39.45, 'volume': 181800}\n"
     ]
    }
   ],
   "source": [
    "# Ex 4.14\n",
    "\n",
    "f = open('dowstocks.csv')\n",
    "rows = csv.reader(f)\n",
    "headers = next(rows)\n",
    "row = next(rows)\n",
    "print(headers)\n",
    "print(row)\n",
    "\n",
    "types = [str, float, str, str, float, float, float, float, int]\n",
    "converted = [func(val) for func, val in zip(types, row)]\n",
    "record = dict(zip(headers, converted))\n",
    "print(converted)\n",
    "print(record)"
   ]
  }
 ],
 "metadata": {
  "kernelspec": {
   "display_name": "Python 3.10.8 64-bit",
   "language": "python",
   "name": "python3"
  },
  "language_info": {
   "codemirror_mode": {
    "name": "ipython",
    "version": 3
   },
   "file_extension": ".py",
   "mimetype": "text/x-python",
   "name": "python",
   "nbconvert_exporter": "python",
   "pygments_lexer": "ipython3",
   "version": "3.10.8"
  },
  "orig_nbformat": 4,
  "vscode": {
   "interpreter": {
    "hash": "e7370f93d1d0cde622a1f8e1c04877d8463912d04d973331ad4851f04de6915a"
   }
  }
 },
 "nbformat": 4,
 "nbformat_minor": 2
}
