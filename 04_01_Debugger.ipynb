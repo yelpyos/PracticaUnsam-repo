{
 "cells": [
  {
   "cell_type": "code",
   "execution_count": 13,
   "metadata": {},
   "outputs": [
    {
     "name": "stdout",
     "output_type": "stream",
     "text": [
      "Entrada [1, 2, 3, 4, 5], Salida: [5, 4, 3, 2, 1]\n"
     ]
    }
   ],
   "source": [
    "# Ex 4.1\n",
    "\n",
    "def invertir_lista(lista):\n",
    "    '''Recibe una lista L y la develve invertida.'''\n",
    "    invertida = []\n",
    "    i = len(lista)\n",
    "    while i > 0:    # tomo el último elemento \n",
    "        i = i-1\n",
    "        invertida.append(i+1) # hay que volar el .pop que se encarga de vaciar listas\n",
    "    return invertida\n",
    "\n",
    "l = [1, 2, 3, 4, 5]    \n",
    "m = invertir_lista(l)\n",
    "print(f'Entrada {l}, Salida: {m}')"
   ]
  },
  {
   "cell_type": "code",
   "execution_count": 36,
   "metadata": {},
   "outputs": [
    {
     "name": "stdout",
     "output_type": "stream",
     "text": [
      "[{'cajones': 100, 'nombre': 'Naranja', 'precio': 70.44},\n",
      " {'cajones': 100, 'nombre': 'Naranja', 'precio': 70.44},\n",
      " {'cajones': 100, 'nombre': 'Naranja', 'precio': 70.44},\n",
      " {'cajones': 100, 'nombre': 'Naranja', 'precio': 70.44},\n",
      " {'cajones': 100, 'nombre': 'Naranja', 'precio': 70.44},\n",
      " {'cajones': 100, 'nombre': 'Naranja', 'precio': 70.44},\n",
      " {'cajones': 100, 'nombre': 'Naranja', 'precio': 70.44}]\n"
     ]
    }
   ],
   "source": [
    "# Ex 4.2\n",
    "\n",
    "import csv\n",
    "from pprint import pprint\n",
    "\n",
    "def leer_camion(nombre_archivo):\n",
    "    camion = []\n",
    "    registro = {}\n",
    "    with open(nombre_archivo,\"rt\") as f:\n",
    "        filas = csv.reader(f)\n",
    "        encabezado = next(filas)\n",
    "        for fila in filas:\n",
    "            #record = dict(zip(headers,row))\n",
    "            registro[encabezado[0]] = fila[0]\n",
    "            registro[encabezado[1]] = int(fila[1])\n",
    "            registro[encabezado[2]] = float(fila[2])\n",
    "            camion.append(registro) # cada iteracion reescribe todos los els de 'camion' y entonces al final quedan repetidos los atributos de 'Naranja'\n",
    "    return camion\n",
    "\n",
    "# NO LO PUDE CORREGIR, REVISAR\n",
    "\n",
    "camion = leer_camion('camion.csv')\n",
    "pprint(camion)"
   ]
  }
 ],
 "metadata": {
  "kernelspec": {
   "display_name": "Python 3.10.8 64-bit",
   "language": "python",
   "name": "python3"
  },
  "language_info": {
   "codemirror_mode": {
    "name": "ipython",
    "version": 3
   },
   "file_extension": ".py",
   "mimetype": "text/x-python",
   "name": "python",
   "nbconvert_exporter": "python",
   "pygments_lexer": "ipython3",
   "version": "3.10.8"
  },
  "orig_nbformat": 4,
  "vscode": {
   "interpreter": {
    "hash": "e7370f93d1d0cde622a1f8e1c04877d8463912d04d973331ad4851f04de6915a"
   }
  }
 },
 "nbformat": 4,
 "nbformat_minor": 2
}
