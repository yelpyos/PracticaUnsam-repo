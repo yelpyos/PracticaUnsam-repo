{
 "cells": [
  {
   "cell_type": "code",
   "execution_count": 3,
   "metadata": {},
   "outputs": [
    {
     "name": "stdout",
     "output_type": "stream",
     "text": [
      "w\n",
      "Manzana,Naranja,Mandarina,Banana,Kiwi,Pera\n",
      "Melon,Manzana,Naranja,Mandarina,Banana,Kiwi,Pera\n"
     ]
    }
   ],
   "source": [
    "frutas = 'Manzana,Naranja,Mandarina,Banana,Kiwi'\n",
    "print(frutas[-2])\n",
    "\n",
    "frutas = frutas + ',Pera'\n",
    "print(frutas)\n",
    "\n",
    "frutas = 'Melon,' + frutas\n",
    "print(frutas)\n",
    "\n"
   ]
  },
  {
   "cell_type": "code",
   "execution_count": null,
   "metadata": {},
   "outputs": [],
   "source": [
    "# Ej 1.17\n",
    "\n",
    "cadena = 'Ejemplo con for'\n",
    "for c in cadena:\n",
    "    print('caracter:', c)\n",
    "    count = 0\n",
    "    for c in cadena:\n",
    "        if c == 'o':\n",
    "            count += 1\n",
    "        else:\n",
    "            pass\n",
    "print(count)  "
   ]
  },
  {
   "cell_type": "code",
   "execution_count": 12,
   "metadata": {},
   "outputs": [
    {
     "name": "stdout",
     "output_type": "stream",
     "text": [
      "Geperipingoposopo\n"
     ]
    }
   ],
   "source": [
    "# Ej 1.18\n",
    "\n",
    "cadena = 'Geringoso'\n",
    "capadepenapa = ''\n",
    "\n",
    "for c in cadena:\n",
    "    if c == 'e':\n",
    "        capadepenapa = capadepenapa + 'epe'\n",
    "    elif c == 'i':\n",
    "        capadepenapa = capadepenapa + 'ipi'\n",
    "    elif c == 'o':\n",
    "        capadepenapa = capadepenapa + 'opo'\n",
    "    else:    \n",
    "        capadepenapa = capadepenapa + c # deja la letra como esta\n",
    "\n",
    "print(capadepenapa)\n",
    "    "
   ]
  }
 ],
 "metadata": {
  "kernelspec": {
   "display_name": "Python 3.10.7 64-bit",
   "language": "python",
   "name": "python3"
  },
  "language_info": {
   "codemirror_mode": {
    "name": "ipython",
    "version": 3
   },
   "file_extension": ".py",
   "mimetype": "text/x-python",
   "name": "python",
   "nbconvert_exporter": "python",
   "pygments_lexer": "ipython3",
   "version": "3.10.7"
  },
  "orig_nbformat": 4,
  "vscode": {
   "interpreter": {
    "hash": "e7370f93d1d0cde622a1f8e1c04877d8463912d04d973331ad4851f04de6915a"
   }
  }
 },
 "nbformat": 4,
 "nbformat_minor": 2
}
