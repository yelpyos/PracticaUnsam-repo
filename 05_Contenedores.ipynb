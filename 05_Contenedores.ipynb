{
 "cells": [
  {
   "cell_type": "code",
   "execution_count": 1,
   "metadata": {},
   "outputs": [
    {
     "name": "stdout",
     "output_type": "stream",
     "text": [
      "100\n"
     ]
    }
   ],
   "source": [
    "camion = [\n",
    "    ('Pera', 100, 490.1),\n",
    "    ('Naranja', 50, 91.3),\n",
    "    ('Limon', 150, 83.44)\n",
    "]\n",
    "\n",
    "print(camion[0][1])"
   ]
  },
  {
   "cell_type": "code",
   "execution_count": 4,
   "metadata": {},
   "outputs": [
    {
     "name": "stdout",
     "output_type": "stream",
     "text": [
      "[('Lima', 100, 32.2), ('Naranja', 50, 91.1), ('Caqui', 150, 103.44), ('Mandarina', 200, 51.23), ('Durazno', 95, 40.37), ('Mandarina', 50, 65.1), ('Naranja', 100, 70.44)]\n"
     ]
    }
   ],
   "source": [
    "registros = []  # Empezamos con una lista vacía\n",
    "\n",
    "with open('camion.csv', 'rt') as f:\n",
    "    next(f) # Saltear el encabezado\n",
    "    for line in f:\n",
    "        row = line.split(',')\n",
    "        registros.append((row[0], int(row[1]), float(row[2])))\n",
    "\n",
    "print(registros)\n",
    "\n",
    "\n"
   ]
  },
  {
   "cell_type": "code",
   "execution_count": 1,
   "metadata": {},
   "outputs": [
    {
     "ename": "IndexError",
     "evalue": "list index out of range",
     "output_type": "error",
     "traceback": [
      "\u001b[0;31m---------------------------------------------------------------------------\u001b[0m",
      "\u001b[0;31mIndexError\u001b[0m                                Traceback (most recent call last)",
      "Cell \u001b[0;32mIn [1], line 6\u001b[0m\n\u001b[1;32m      4\u001b[0m \u001b[39mfor\u001b[39;00m line \u001b[39min\u001b[39;00m f:\n\u001b[1;32m      5\u001b[0m     row \u001b[39m=\u001b[39m line\u001b[39m.\u001b[39msplit(\u001b[39m'\u001b[39m\u001b[39m,\u001b[39m\u001b[39m'\u001b[39m)\n\u001b[0;32m----> 6\u001b[0m     precios[row[\u001b[39m0\u001b[39m]] \u001b[39m=\u001b[39m \u001b[39mfloat\u001b[39m(row[\u001b[39m1\u001b[39;49m])\n",
      "\u001b[0;31mIndexError\u001b[0m: list index out of range"
     ]
    }
   ],
   "source": [
    "precios = {}\n",
    "\n",
    "with open('precios.csv', 'rt') as f:\n",
    "    for line in f:\n",
    "        row = line.split(',')\n",
    "        precios[row[0]] = float(row[1])\n",
    "        # tengo que volar una linea al final"
   ]
  },
  {
   "cell_type": "code",
   "execution_count": 1,
   "metadata": {},
   "outputs": [],
   "source": [
    "def costo_camion(nombre_archivo):\n",
    "    '''Computa el precio total del camion (cajones * precio) de un archivo'''\n",
    "    total = 0.0\n",
    "\n",
    "    with open(nombre_archivo, 'rt') as f:\n",
    "        rows = csv.reader(f)\n",
    "        headers = next(rows)\n",
    "        for i, row in enumerate(rows):\n",
    "            try:\n",
    "                ncajones = int(row[1])\n",
    "                precio = float(row[2])\n",
    "                total += ncajones * precio\n",
    "            except ValueError:\n",
    "                print('Faltan datos en la línea', i, 'del archivo.')\n",
    "    return total"
   ]
  },
  {
   "cell_type": "code",
   "execution_count": 1,
   "metadata": {},
   "outputs": [],
   "source": [
    "# usando la func anterior, creo nuevo archivo informe.py . En este archivo, definí una función `leer_camion(nombre_archivo)` que abre un archivo con el contenido de un camión, lo lee y devuelve la información como una lista de tuplas. Para hacerlo vas a tener que hacer algunas modificaciones menores al código de arriba.\n",
    "\n",
    "def costo_camion(nombre_archivo):\n",
    "    '''Computa el precio total del camion (cajones * precio) de un archivo'''\n",
    "    total = 0.0\n",
    "\n",
    "    with open(nombre_archivo, 'rt') as f:\n",
    "        rows = csv.reader(f)\n",
    "        headers = next(rows)\n",
    "        for i, row in enumerate(rows):\n",
    "            try:\n",
    "                ncajones = int(row[1])\n",
    "                precio = float(row[2])\n",
    "                total += ncajones * precio\n",
    "            except ValueError:\n",
    "                print('Faltan datos en la línea', i, 'del archivo.')\n",
    "    return total\n"
   ]
  },
  {
   "cell_type": "code",
   "execution_count": 2,
   "metadata": {},
   "outputs": [
    {
     "name": "stdout",
     "output_type": "stream",
     "text": [
      "[('Lima', 100, 32.2), ('Naranja', 50, 91.1), ('Caqui', 150, 103.44), ('Mandarina', 200, 51.23), ('Durazno', 95, 40.37), ('Mandarina', 50, 65.1), ('Naranja', 100, 70.44)]\n",
      "('Lima', 100, 32.2)\n",
      "50\n",
      "47671.15\n"
     ]
    }
   ],
   "source": [
    "# Ex 2.15\n",
    "\n",
    "import csv\n",
    "\n",
    "def leer_camion(nombre_archivo):\n",
    "    camion = []\n",
    "    with open(nombre_archivo, 'rt') as f:\n",
    "        rows = csv.reader(f)\n",
    "        headers = next(rows)\n",
    "        for row in rows:\n",
    "            lote = (row[0], int(row[1]), float(row[2]))\n",
    "            camion.append(lote)\n",
    "    return camion\n",
    "\n",
    "camion = leer_camion('camion.csv')\n",
    "print(camion)\n",
    "print(camion[0])\n",
    "print(camion[1][1])\n",
    "\n",
    "total = 0.0\n",
    "for s in camion:\n",
    "    total += s[1] * s[2] # P*Q en las tuplas\n",
    "print(total)\n"
   ]
  },
  {
   "cell_type": "code",
   "execution_count": 2,
   "metadata": {},
   "outputs": [
    {
     "name": "stdout",
     "output_type": "stream",
     "text": [
      "[{'nombre': 'Lima', 'cajones': 100, 'precio': 32.2}, {'nombre': 'Naranja', 'cajones': 50, 'precio': 91.1}, {'nombre': 'Caqui', 'cajones': 150, 'precio': 103.44}, {'nombre': 'Mandarina', 'cajones': 200, 'precio': 51.23}, {'nombre': 'Durazno', 'cajones': 95, 'precio': 40.37}, {'nombre': 'Mandarina', 'cajones': 50, 'precio': 65.1}, {'nombre': 'Naranja', 'cajones': 100, 'precio': 70.44}]\n",
      "[{'nombre': 'Lima', 'cajones': 100, 'precio': 32.2}, {'nombre': 'Naranja', 'cajones': 50, 'precio': 91.1}, {'nombre': 'Caqui', 'cajones': 150, 'precio': 103.44}, {'nombre': 'Mandarina', 'cajones': 200, 'precio': 51.23}, {'nombre': 'Durazno', 'cajones': 95, 'precio': 40.37}, {'nombre': 'Mandarina', 'cajones': 50, 'precio': 65.1}, {'nombre': 'Naranja', 'cajones': 100, 'precio': 70.44}]\n",
      "47671.15\n",
      "{'nombre': 'Naranja', 'cajones': 50, 'precio': 91.1}\n"
     ]
    }
   ],
   "source": [
    "# Ex 2.16\n",
    "\n",
    "# ahora la quiero guardar como diccionario\n",
    "\n",
    "import csv\n",
    "from pprint import pprint\n",
    "\n",
    "def leer_camion(nombre_archivo):\n",
    "    camion = []\n",
    "    with open(nombre_archivo, 'rt') as f:\n",
    "        rows = csv.reader(f)\n",
    "        headers = next(rows)\n",
    "        for row in rows:\n",
    "            record = dict(zip(headers,row))\n",
    "            stock = {\n",
    "                'nombre' : record['nombre'],\n",
    "                'cajones' : int(record['cajones']),\n",
    "                'precio' : float(record['precio'])\n",
    "            }\n",
    "                                  \n",
    "            #stock = {\n",
    "            #    'nombre' : row[0],\n",
    "            #    'cajones' : int(row[1]),\n",
    "            #    'precio' : float(row[2])\n",
    "            #}\n",
    "            \n",
    "            camion.append(stock)\n",
    "        print(camion)\n",
    "    return camion\n",
    "\n",
    "camion = leer_camion('camion.csv')\n",
    "print(camion)\n",
    "\n",
    "#print(camion[1]['cajones'])\n",
    "\n",
    "total = 0.0\n",
    "for s in camion:\n",
    "    total += s['cajones']*s['precio']\n",
    "print(total)\n",
    "\n",
    "print(camion[1])"
   ]
  },
  {
   "cell_type": "code",
   "execution_count": null,
   "metadata": {},
   "outputs": [
    {
     "name": "stdout",
     "output_type": "stream",
     "text": [
      "bad row []\n",
      "bad row []\n",
      "{'Lima': 40.22, 'Uva': 24.85, 'Ciruela': 44.85, 'Cereza': 11.27, 'Frutilla': 53.72, 'Caqui': 105.46, 'Tomate': 66.67, 'Berenjena': 28.47, 'Lechuga': 24.22, 'Durazno': 73.48, 'Remolacha': 20.75, 'Habas': 23.16, 'Frambuesa': 34.35, 'Naranja': 106.28, 'Bruselas': 15.72, 'Batata': 55.16, 'Rúcula': 36.9, 'Radicheta': 26.11, 'Repollo': 49.16, 'Cebolla': 58.99, 'Cebollín': 57.1, 'Puerro': 27.58, 'Mandarina': 80.89, 'Ajo': 15.19, 'Rabanito': 51.94, 'Zapallo': 24.79, 'Espinaca': 52.61, 'Acelga': 29.26, 'Zanahoria': 49.74, 'Papa': 69.35}\n",
      "106.28\n",
      "80.89\n"
     ]
    }
   ],
   "source": [
    "# Ex 2.17\n",
    "# quiero un dict que contenga todos los productos\n",
    "import csv\n",
    "from pprint import pprint\n",
    "\n",
    "def leer_precios(nombre_archivo):\n",
    "        precios = {}        \n",
    "        with open(nombre_archivo) as f:\n",
    "            rows = csv.reader(f)\n",
    "            for row in rows:\n",
    "                try:\n",
    "                    precios[row[0]] = float(row[1])\n",
    "                    \n",
    "                    \"\"\"if row == []:\n",
    "                        pass\n",
    "                    else:\n",
    "                        k, v = row\n",
    "                        d[k] = v\"\"\"\n",
    "                    \n",
    "                except IndexError:\n",
    "                    print('bad row', row)\n",
    "            print(precios)  \n",
    "        return precios\n",
    "\n",
    "        \"\"\" try:\n",
    "                quantity = int(row[1])\n",
    "                price = float(row[2])\n",
    "                total_cost += quantity * price                \n",
    "            except ValueError:\n",
    "                print('Bad row', row) \"\"\"\n",
    "\n",
    "precios = leer_precios('precios.csv')\n",
    "\n",
    "print(precios['Naranja'])\n",
    "print(precios['Mandarina'])\n",
    "\n"
   ]
  },
  {
   "cell_type": "code",
   "execution_count": null,
   "metadata": {},
   "outputs": [
    {
     "ename": "NameError",
     "evalue": "name 'leer_camion' is not defined",
     "output_type": "error",
     "traceback": [
      "\u001b[0;31m---------------------------------------------------------------------------\u001b[0m",
      "\u001b[0;31mNameError\u001b[0m                                 Traceback (most recent call last)",
      "Cell \u001b[0;32mIn [1], line 14\u001b[0m\n\u001b[1;32m     10\u001b[0m         rows\u001b[39m.\u001b[39mappend(resumen)\n\u001b[1;32m     11\u001b[0m     \u001b[39mreturn\u001b[39;00m rows\n\u001b[0;32m---> 14\u001b[0m camion \u001b[39m=\u001b[39m leer_camion(\u001b[39m'\u001b[39m\u001b[39mcamion.csv\u001b[39m\u001b[39m'\u001b[39m)\n\u001b[1;32m     15\u001b[0m precios \u001b[39m=\u001b[39m leer_precios(\u001b[39m'\u001b[39m\u001b[39mprecios.csv\u001b[39m\u001b[39m'\u001b[39m)\n\u001b[1;32m     17\u001b[0m bal \u001b[39m=\u001b[39m balance(camion, precios)\n",
      "\u001b[0;31mNameError\u001b[0m: name 'leer_camion' is not defined"
     ]
    }
   ],
   "source": [
    "# Ex 2.18\n",
    "#con los precios del camión (2.16) y los de venta en el negocio (2.17) calcule lo que costó el camión, lo que se recaudó con la venta, y la diferencia. ¿Hubo ganancia o pérdida? El programa debe imprimir por pantalla un balance con estos datos.\n",
    "\n",
    "def balance(camion, precios):\n",
    "    rows = []\n",
    "    for stock in camion:\n",
    "        precio_actual = precios[stock['nombre']]\n",
    "        variacion = precio_actual - stock['precio']\n",
    "        resumen = (stock['nombre'], stock['cajones'], precio_actual, variacion)\n",
    "        rows.append(resumen)\n",
    "    return rows\n",
    "\n",
    "\n",
    "camion = leer_camion('camion.csv')\n",
    "precios = leer_precios('precios.csv')\n",
    "\n",
    "bal = balance(camion, precios)\n",
    "print(bal)\n",
    "\n",
    "print(bal[0][3])\n",
    "\n",
    "\n",
    "\"\"\" fru, cant, prec, var = bal\n",
    "print(fru) \"\"\" # tampoco la puedo desempaquetar??\n",
    "\n",
    "dif = []\n",
    "i = 0\n",
    "while i < len(bal):    \n",
    "    dif.append(bal([i][3]))\n",
    "    i += 1\n",
    "print(dif)  \n",
    "\n",
    "# no veo por que no puedo sumar el tercer elemento de cada tupla ???\n",
    "\n",
    "# desarmar la tupla y sumar ?\n",
    "\n",
    "#print([sum(i[3]) for i in bal])"
   ]
  }
 ],
 "metadata": {
  "kernelspec": {
   "display_name": "Python 3.10.7 64-bit",
   "language": "python",
   "name": "python3"
  },
  "language_info": {
   "codemirror_mode": {
    "name": "ipython",
    "version": 3
   },
   "file_extension": ".py",
   "mimetype": "text/x-python",
   "name": "python",
   "nbconvert_exporter": "python",
   "pygments_lexer": "ipython3",
   "version": "3.10.8"
  },
  "orig_nbformat": 4,
  "vscode": {
   "interpreter": {
    "hash": "e7370f93d1d0cde622a1f8e1c04877d8463912d04d973331ad4851f04de6915a"
   }
  }
 },
 "nbformat": 4,
 "nbformat_minor": 2
}
