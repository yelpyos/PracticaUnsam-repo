{
 "cells": [
  {
   "cell_type": "code",
   "execution_count": 1,
   "metadata": {},
   "outputs": [
    {
     "name": "stdout",
     "output_type": "stream",
     "text": [
      "100\n"
     ]
    }
   ],
   "source": [
    "camion = [\n",
    "    ('Pera', 100, 490.1),\n",
    "    ('Naranja', 50, 91.3),\n",
    "    ('Limon', 150, 83.44)\n",
    "]\n",
    "\n",
    "print(camion[0][1])"
   ]
  },
  {
   "cell_type": "code",
   "execution_count": 4,
   "metadata": {},
   "outputs": [
    {
     "name": "stdout",
     "output_type": "stream",
     "text": [
      "[('Lima', 100, 32.2), ('Naranja', 50, 91.1), ('Caqui', 150, 103.44), ('Mandarina', 200, 51.23), ('Durazno', 95, 40.37), ('Mandarina', 50, 65.1), ('Naranja', 100, 70.44)]\n"
     ]
    }
   ],
   "source": [
    "registros = []  # Empezamos con una lista vacía\n",
    "\n",
    "with open('camion.csv', 'rt') as f:\n",
    "    next(f) # Saltear el encabezado\n",
    "    for line in f:\n",
    "        row = line.split(',')\n",
    "        registros.append((row[0], int(row[1]), float(row[2])))\n",
    "\n",
    "print(registros)\n",
    "\n",
    "\n"
   ]
  },
  {
   "cell_type": "code",
   "execution_count": 1,
   "metadata": {},
   "outputs": [
    {
     "ename": "IndexError",
     "evalue": "list index out of range",
     "output_type": "error",
     "traceback": [
      "\u001b[0;31m---------------------------------------------------------------------------\u001b[0m",
      "\u001b[0;31mIndexError\u001b[0m                                Traceback (most recent call last)",
      "Cell \u001b[0;32mIn [1], line 6\u001b[0m\n\u001b[1;32m      4\u001b[0m \u001b[39mfor\u001b[39;00m line \u001b[39min\u001b[39;00m f:\n\u001b[1;32m      5\u001b[0m     row \u001b[39m=\u001b[39m line\u001b[39m.\u001b[39msplit(\u001b[39m'\u001b[39m\u001b[39m,\u001b[39m\u001b[39m'\u001b[39m)\n\u001b[0;32m----> 6\u001b[0m     precios[row[\u001b[39m0\u001b[39m]] \u001b[39m=\u001b[39m \u001b[39mfloat\u001b[39m(row[\u001b[39m1\u001b[39;49m])\n",
      "\u001b[0;31mIndexError\u001b[0m: list index out of range"
     ]
    }
   ],
   "source": [
    "precios = {}\n",
    "\n",
    "with open('precios.csv', 'rt') as f:\n",
    "    for line in f:\n",
    "        row = line.split(',')\n",
    "        precios[row[0]] = float(row[1])\n",
    "        # tengo que volar una linea al final"
   ]
  },
  {
   "cell_type": "code",
   "execution_count": 1,
   "metadata": {},
   "outputs": [],
   "source": [
    "def costo_camion(nombre_archivo):\n",
    "    '''Computa el precio total del camion (cajones * precio) de un archivo'''\n",
    "    total = 0.0\n",
    "\n",
    "    with open(nombre_archivo, 'rt') as f:\n",
    "        rows = csv.reader(f)\n",
    "        headers = next(rows)\n",
    "        for i, row in enumerate(rows):\n",
    "            try:\n",
    "                ncajones = int(row[1])\n",
    "                precio = float(row[2])\n",
    "                total += ncajones * precio\n",
    "            except ValueError:\n",
    "                print('Faltan datos en la línea', i, 'del archivo.')\n",
    "    return total"
   ]
  },
  {
   "cell_type": "code",
   "execution_count": null,
   "metadata": {},
   "outputs": [],
   "source": [
    "# usando la func anterior, creo nuevo archivo informe.py . En este archivo, definí una función `leer_camion(nombre_archivo)` que abre un archivo con el contenido de un camión, lo lee y devuelve la información como una lista de tuplas. Para hacerlo vas a tener que hacer algunas modificaciones menores al código de arriba.\n",
    "\n",
    "def costo_camion(nombre_archivo):\n",
    "    '''Computa el precio total del camion (cajones * precio) de un archivo'''\n",
    "    total = 0.0\n",
    "\n",
    "    with open(nombre_archivo, 'rt') as f:\n",
    "        rows = csv.reader(f)\n",
    "        headers = next(rows)\n",
    "        for i, row in enumerate(rows):\n",
    "            try:\n",
    "                ncajones = int(row[1])\n",
    "                precio = float(row[2])\n",
    "                total += ncajones * precio\n",
    "            except ValueError:\n",
    "                print('Faltan datos en la línea', i, 'del archivo.')\n",
    "    return total\n"
   ]
  },
  {
   "cell_type": "code",
   "execution_count": 6,
   "metadata": {},
   "outputs": [
    {
     "name": "stdout",
     "output_type": "stream",
     "text": [
      "[('Lima', 100, 32.2), ('Naranja', 50, 91.1), ('Caqui', 150, 103.44), ('Mandarina', 200, 51.23), ('Durazno', 95, 40.37), ('Mandarina', 50, 65.1), ('Naranja', 100, 70.44)]\n",
      "('Lima', 100, 32.2)\n",
      "50\n",
      "1198.88\n"
     ]
    }
   ],
   "source": [
    "# Ej 2.15\n",
    "\n",
    "import csv\n",
    "\n",
    "def leer_camion(nombre_archivo):\n",
    "    camion = []\n",
    "    with open(nombre_archivo, 'rt') as f:\n",
    "        rows = csv.reader(f)\n",
    "        headers = next(rows)\n",
    "        for row in rows:\n",
    "            lote = (row[0], int(row[1]), float(row[2]))\n",
    "            camion.append(lote)\n",
    "    return camion\n",
    "\n",
    "camion = leer_camion('camion.csv')\n",
    "print(camion)\n",
    "print(camion[0])\n",
    "print(camion[1][1])\n",
    "\n",
    "total = 0.0\n",
    "for s in camion:\n",
    "    total += s[1] * s[2] # P*Q en las tuplas\n",
    "print(total)\n"
   ]
  },
  {
   "cell_type": "code",
   "execution_count": 44,
   "metadata": {},
   "outputs": [
    {
     "name": "stdout",
     "output_type": "stream",
     "text": [
      "[{'cajones': 100, 'nombre': 'Lima', 'precio': 32.2},\n",
      " {'cajones': 50, 'nombre': 'Naranja', 'precio': 91.1},\n",
      " {'cajones': 150, 'nombre': 'Caqui', 'precio': 103.44},\n",
      " {'cajones': 200, 'nombre': 'Mandarina', 'precio': 51.23},\n",
      " {'cajones': 95, 'nombre': 'Durazno', 'precio': 40.37},\n",
      " {'cajones': 50, 'nombre': 'Mandarina', 'precio': 65.1},\n",
      " {'cajones': 100, 'nombre': 'Naranja', 'precio': 70.44}]\n",
      "50\n",
      "47671.15\n"
     ]
    }
   ],
   "source": [
    "# Ej 2.16\n",
    "\n",
    "# ahora la quiero guardar como diccionario\n",
    "\n",
    "import csv\n",
    "from pprint import pprint\n",
    "\n",
    "def leer_camion(nombre_archivo):\n",
    "    camion = []\n",
    "    with open(nombre_archivo, 'rt') as f:\n",
    "        rows = csv.reader(f)\n",
    "        headers = next(rows)\n",
    "        for row in rows:\n",
    "            #item = dict(zip(headers,row))\n",
    "            cosas = {\n",
    "                'nombre' : row[0],\n",
    "                'cajones' : int(row[1]),\n",
    "                'precio' : float(row[2])\n",
    "            }\n",
    "            camion.append(cosas)\n",
    "        \n",
    "    return camion\n",
    "\n",
    "camion = leer_camion('camion.csv')\n",
    "pprint(camion)\n",
    "\n",
    "print(camion[1]['cajones'])\n",
    "\n",
    "total = 0.0\n",
    "for s in camion:\n",
    "    total += s['cajones']*s['precio']\n",
    "print(total)"
   ]
  },
  {
   "cell_type": "code",
   "execution_count": null,
   "metadata": {},
   "outputs": [],
   "source": [
    "# Ej 2.17\n",
    "\n",
    "import csv\n",
    "from pprint import pprint\n",
    "\n",
    "def leer_precios(nombre_archivo):\n",
    "    "
   ]
  }
 ],
 "metadata": {
  "kernelspec": {
   "display_name": "Python 3.10.7 64-bit",
   "language": "python",
   "name": "python3"
  },
  "language_info": {
   "codemirror_mode": {
    "name": "ipython",
    "version": 3
   },
   "file_extension": ".py",
   "mimetype": "text/x-python",
   "name": "python",
   "nbconvert_exporter": "python",
   "pygments_lexer": "ipython3",
   "version": "3.10.7"
  },
  "orig_nbformat": 4,
  "vscode": {
   "interpreter": {
    "hash": "e7370f93d1d0cde622a1f8e1c04877d8463912d04d973331ad4851f04de6915a"
   }
  }
 },
 "nbformat": 4,
 "nbformat_minor": 2
}
