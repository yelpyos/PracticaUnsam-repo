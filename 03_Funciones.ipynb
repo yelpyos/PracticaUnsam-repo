{
 "cells": [
  {
   "cell_type": "code",
   "execution_count": 1,
   "metadata": {},
   "outputs": [
    {
     "name": "stdout",
     "output_type": "stream",
     "text": [
      "47671.15\n",
      "Costo total: None\n"
     ]
    }
   ],
   "source": [
    "# Ej 2.6\n",
    "\n",
    " # important to first assign this\n",
    "\n",
    "def costo_camion(nombre_archivo):\n",
    "    total_cost = 0.0\n",
    "    with open(nombre_archivo, 'rt') as f:\n",
    "        headers = next(f)        \n",
    "        for line in f:\n",
    "            row = line.split(',')\n",
    "            quantity = int(row[1])\n",
    "            price = float(row[2])\n",
    "            total_cost += quantity * price\n",
    "    print(total_cost) \n",
    "\n",
    "costo = costo_camion('camion.csv')\n",
    "print('Costo total:', costo)    # ?? result is 'None'\n",
    "\n",
    "# REVISAR"
   ]
  },
  {
   "cell_type": "code",
   "execution_count": 2,
   "metadata": {},
   "outputs": [
    {
     "name": "stdout",
     "output_type": "stream",
     "text": [
      "47671.15\n"
     ]
    }
   ],
   "source": [
    "costo_camion('camion.csv')          "
   ]
  },
  {
   "cell_type": "code",
   "execution_count": 3,
   "metadata": {},
   "outputs": [
    {
     "name": "stdout",
     "output_type": "stream",
     "text": [
      "El precio es [34.35]\n"
     ]
    }
   ],
   "source": [
    "# Ej 2.7\n",
    "\n",
    "def buscar_precio(fruta):\n",
    "    f = open('precios.csv', 'rt')\n",
    "    price = []\n",
    "    for line in f:\n",
    "        row = line.split(',')\n",
    "        if row[0] == fruta:\n",
    "            price.append(float(row[1]))\n",
    "            print('El precio es', price)     \n",
    "        elif row[0] != fruta:\n",
    "            pass\n",
    "        else:\n",
    "            print(fruta, 'no figura en el listado')\n",
    "            \n",
    "buscar_precio('Frambuesa')  # rewrite with video\n",
    "                # por algo no funciona !!!"
   ]
  },
  {
   "cell_type": "code",
   "execution_count": 13,
   "metadata": {},
   "outputs": [
    {
     "name": "stdout",
     "output_type": "stream",
     "text": [
      "Kale no figura en el listado.\n"
     ]
    }
   ],
   "source": [
    "# Ej 2.7.1 (done in video)\n",
    "\n",
    "import csv\n",
    "from tabnanny import verbose\n",
    "\n",
    "def buscar_precio(fruta, verbose=True):\n",
    "    precio = None\n",
    "    with open('precios.csv', 'rt') as archivo:\n",
    "        archivo_csv = csv.reader(archivo)\n",
    "        for linea in archivo_csv:\n",
    "            if linea:      # check that line is not empty\n",
    "                if linea[0] == fruta:\n",
    "                    precio = float(linea[1])\n",
    "                    break  # faster, doesn't check the whole list\n",
    "    if verbose:\n",
    "        if precio != None:\n",
    "            print(f'El precio del cajon de {fruta} es: {precio}')\n",
    "        else:\n",
    "            print(f'{fruta} no figura en el listado.')\n",
    "\n",
    "buscar_precio('Kale')"
   ]
  },
  {
   "cell_type": "code",
   "execution_count": 5,
   "metadata": {},
   "outputs": [],
   "source": [
    "# Ej 2.7.2 with While. Check!!"
   ]
  },
  {
   "cell_type": "code",
   "execution_count": 6,
   "metadata": {},
   "outputs": [
    {
     "ename": "NameError",
     "evalue": "name 'dos' is not defined",
     "output_type": "error",
     "traceback": [
      "\u001b[0;31m---------------------------------------------------------------------------\u001b[0m",
      "\u001b[0;31mNameError\u001b[0m                                 Traceback (most recent call last)",
      "Cell \u001b[0;32mIn [6], line 9\u001b[0m\n\u001b[1;32m      6\u001b[0m         \u001b[39mraise\u001b[39;00m \u001b[39mValueError\u001b[39;00m(\u001b[39m'\u001b[39m\u001b[39mLa edad no puede ser negativa\u001b[39m\u001b[39m'\u001b[39m)\n\u001b[1;32m      7\u001b[0m     \u001b[39mreturn\u001b[39;00m edad\n\u001b[0;32m----> 9\u001b[0m preguntar_edad(dos)\n",
      "\u001b[0;31mNameError\u001b[0m: name 'dos' is not defined"
     ]
    }
   ],
   "source": [
    "# Ej 2.8\n",
    "\n",
    "def preguntar_edad(nombre):\n",
    "    edad = int(input(f'Ingresa tu edad {nombre}: '))\n",
    "    if edad < 0:\n",
    "        raise ValueError('La edad no puede ser negativa')\n",
    "    return edad\n",
    "\n",
    "preguntar_edad(dos)"
   ]
  },
  {
   "cell_type": "code",
   "execution_count": null,
   "metadata": {},
   "outputs": [
    {
     "data": {
      "text/plain": [
       "47671.15"
      ]
     },
     "execution_count": 36,
     "metadata": {},
     "output_type": "execute_result"
    }
   ],
   "source": [
    "# Ej 2.9 (adaptado con solutions de practical python)\n",
    "\n",
    "import csv\n",
    "\n",
    "def costo_camion(nombre_archivo):\n",
    "    total_cost = 0.0\n",
    "    with open(nombre_archivo, 'rt') as f:\n",
    "        rows = csv.reader(f)\n",
    "        headers = next(rows)        \n",
    "        for row in rows:\n",
    "            try:\n",
    "                quantity = int(row[1])\n",
    "                price = float(row[2])\n",
    "                total_cost += quantity * price                \n",
    "            except ValueError:\n",
    "                print('Bad row', row)\n",
    "    return total_cost \n",
    "\n",
    "\n",
    "costo_camion('camion.csv')"
   ]
  },
  {
   "cell_type": "code",
   "execution_count": 4,
   "metadata": {},
   "outputs": [
    {
     "name": "stdout",
     "output_type": "stream",
     "text": [
      "costo total: 47671.15\n"
     ]
    }
   ],
   "source": [
    "# Ej 2.10\n",
    "\n",
    "import csv \n",
    "import sys\n",
    "\n",
    "def costo_camion(nombre_archivo):\n",
    "    total_cost = 0.0\n",
    "    with open(nombre_archivo, 'rt') as f:\n",
    "        rows = csv.reader(f)\n",
    "        headers = next(rows)        \n",
    "        for row in rows:\n",
    "            try:\n",
    "                quantity = int(row[1])\n",
    "                price = float(row[2])\n",
    "                total_cost += quantity * price                \n",
    "            except ValueError:\n",
    "                print('Bad row', row)\n",
    "    return total_cost \n",
    "\n",
    "if len(sys.argv) == 2:\n",
    "    nombre_archivo = sys.argv[1]\n",
    "else:\n",
    "    nombre_archivo = 'camion.csv'\n",
    "\n",
    "costo = costo_camion(nombre_archivo)\n",
    "print('costo total:', costo)\n",
    "\n",
    "\n"
   ]
  }
 ],
 "metadata": {
  "kernelspec": {
   "display_name": "Python 3.10.6 64-bit",
   "language": "python",
   "name": "python3"
  },
  "language_info": {
   "codemirror_mode": {
    "name": "ipython",
    "version": 3
   },
   "file_extension": ".py",
   "mimetype": "text/x-python",
   "name": "python",
   "nbconvert_exporter": "python",
   "pygments_lexer": "ipython3",
   "version": "3.10.8"
  },
  "orig_nbformat": 4,
  "vscode": {
   "interpreter": {
    "hash": "e7370f93d1d0cde622a1f8e1c04877d8463912d04d973331ad4851f04de6915a"
   }
  }
 },
 "nbformat": 4,
 "nbformat_minor": 2
}
