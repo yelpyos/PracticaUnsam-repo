{
 "cells": [
  {
   "cell_type": "code",
   "execution_count": 14,
   "metadata": {},
   "outputs": [
    {
     "name": "stdout",
     "output_type": "stream",
     "text": [
      "47671.15\n",
      "Costo total: None\n"
     ]
    }
   ],
   "source": [
    "# Ej 2.6\n",
    "\n",
    " # important to first assign this\n",
    "\n",
    "def costo_camion(nombre_archivo):\n",
    "    total_cost = 0.0\n",
    "    with open(nombre_archivo, 'rt') as f:\n",
    "        headers = next(f)        \n",
    "        for line in f:\n",
    "            row = line.split(',')\n",
    "            quantity = int(row[1])\n",
    "            price = float(row[2])\n",
    "            total_cost += quantity * price\n",
    "    print(total_cost) \n",
    "\n",
    "costo = costo_camion('camion.csv')\n",
    "print('Costo total:', costo) "
   ]
  }
 ],
 "metadata": {
  "kernelspec": {
   "display_name": "Python 3.10.6 64-bit",
   "language": "python",
   "name": "python3"
  },
  "language_info": {
   "codemirror_mode": {
    "name": "ipython",
    "version": 3
   },
   "file_extension": ".py",
   "mimetype": "text/x-python",
   "name": "python",
   "nbconvert_exporter": "python",
   "pygments_lexer": "ipython3",
   "version": "3.10.7"
  },
  "orig_nbformat": 4,
  "vscode": {
   "interpreter": {
    "hash": "e7370f93d1d0cde622a1f8e1c04877d8463912d04d973331ad4851f04de6915a"
   }
  }
 },
 "nbformat": 4,
 "nbformat_minor": 2
}
