{
 "cells": [
  {
   "cell_type": "code",
   "execution_count": 6,
   "metadata": {},
   "outputs": [
    {
     "name": "stdout",
     "output_type": "stream",
     "text": [
      "47671.15\n",
      "Costo total: None\n"
     ]
    }
   ],
   "source": [
    "# Ej 2.6\n",
    "\n",
    " # important to first assign this\n",
    "\n",
    "def costo_camion(nombre_archivo):\n",
    "    total_cost = 0.0\n",
    "    with open(nombre_archivo, 'rt') as f:\n",
    "        headers = next(f)        \n",
    "        for line in f:\n",
    "            row = line.split(',')\n",
    "            quantity = int(row[1])\n",
    "            price = float(row[2])\n",
    "            total_cost += quantity * price\n",
    "    print(total_cost) \n",
    "\n",
    "costo = costo_camion('camion.csv')\n",
    "print('Costo total:', costo)    # ?? result is 'None'\n",
    "\n",
    "# REVISAR"
   ]
  },
  {
   "cell_type": "code",
   "execution_count": 7,
   "metadata": {},
   "outputs": [
    {
     "name": "stdout",
     "output_type": "stream",
     "text": [
      "47671.15\n"
     ]
    }
   ],
   "source": [
    "costo_camion('camion.csv')          "
   ]
  },
  {
   "cell_type": "code",
   "execution_count": null,
   "metadata": {},
   "outputs": [],
   "source": [
    "# Ej 2.7\n",
    "\n",
    "def buscar_precio(fruta):\n",
    "    f = open('precios.csv', 'rt')\n",
    "    price = []\n",
    "    for line in f:\n",
    "        row = line.split(',')\n",
    "        if row[0] == fruta:\n",
    "            price.append(float(row[1]))\n",
    "            print('El precio es', price)     \n",
    "        elif row[0] != fruta:\n",
    "            print(fruta, 'no figura en el listado')\n",
    "\n",
    "buscar_precio('Frambuesa')  # rewrite with video\n"
   ]
  },
  {
   "cell_type": "code",
   "execution_count": 31,
   "metadata": {},
   "outputs": [
    {
     "name": "stdout",
     "output_type": "stream",
     "text": [
      "Kale no figura en el listado.\n"
     ]
    }
   ],
   "source": [
    "# Ej 2.7.1 (done in video)\n",
    "\n",
    "import csv\n",
    "from tabnanny import verbose\n",
    "\n",
    "def buscar_precio(fruta, verbose=True):\n",
    "    precio = None\n",
    "    with open('precios.csv', 'rt') as archivo:\n",
    "        archivo_csv = csv.reader(archivo)\n",
    "        for linea in archivo_csv:\n",
    "            if linea:      # check that line is not empty\n",
    "                if linea[0] == fruta:\n",
    "                    precio = float(linea[1])\n",
    "                    break  # faster, doesn't check the whole list\n",
    "    if verbose:\n",
    "        if precio != None:\n",
    "            print(f'El precio del cajon de {fruta} es: {precio}')\n",
    "        else:\n",
    "            print(f'{fruta} no figura en el listado.')\n",
    "\n",
    "buscar_precio('Kale')"
   ]
  },
  {
   "cell_type": "code",
   "execution_count": null,
   "metadata": {},
   "outputs": [],
   "source": [
    "# Ej 2.7.2 with While. Check!!"
   ]
  },
  {
   "cell_type": "code",
   "execution_count": 33,
   "metadata": {},
   "outputs": [],
   "source": [
    "def preguntar_edad(nombre):\n",
    "    edad = int(input(f'Ingresa tu edad {nombre}: '))\n",
    "    if edad < 0:\n",
    "        return edad\n",
    "\n",
    "preguntar_edad('dos')"
   ]
  }
 ],
 "metadata": {
  "kernelspec": {
   "display_name": "Python 3.10.6 64-bit",
   "language": "python",
   "name": "python3"
  },
  "language_info": {
   "codemirror_mode": {
    "name": "ipython",
    "version": 3
   },
   "file_extension": ".py",
   "mimetype": "text/x-python",
   "name": "python",
   "nbconvert_exporter": "python",
   "pygments_lexer": "ipython3",
   "version": "3.10.7"
  },
  "orig_nbformat": 4,
  "vscode": {
   "interpreter": {
    "hash": "e7370f93d1d0cde622a1f8e1c04877d8463912d04d973331ad4851f04de6915a"
   }
  }
 },
 "nbformat": 4,
 "nbformat_minor": 2
}
