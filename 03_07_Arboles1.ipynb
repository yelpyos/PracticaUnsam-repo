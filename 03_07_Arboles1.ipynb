{
 "cells": [
  {
   "cell_type": "code",
   "execution_count": 6,
   "metadata": {},
   "outputs": [
    {
     "ename": "TypeError",
     "evalue": "list indices must be integers or slices, not str",
     "output_type": "error",
     "traceback": [
      "\u001b[0;31m---------------------------------------------------------------------------\u001b[0m",
      "\u001b[0;31mTypeError\u001b[0m                                 Traceback (most recent call last)",
      "Cell \u001b[0;32mIn [6], line 20\u001b[0m\n\u001b[1;32m     15\u001b[0m     parques \u001b[39m=\u001b[39m arboles[\u001b[39m'\u001b[39m\u001b[39mespacio_ve\u001b[39m\u001b[39m'\u001b[39m]\n\u001b[1;32m     17\u001b[0m     \u001b[39mreturn\u001b[39;00m parques\n\u001b[0;32m---> 20\u001b[0m parque \u001b[39m=\u001b[39m leer_parque(\u001b[39m'\u001b[39;49m\u001b[39marbolado-en-espacios-verdes.csv\u001b[39;49m\u001b[39m'\u001b[39;49m) \u001b[39m#'DE LAS VICTORIAS')\u001b[39;00m\n\u001b[1;32m     22\u001b[0m \u001b[39mprint\u001b[39m(parque)\n",
      "Cell \u001b[0;32mIn [6], line 15\u001b[0m, in \u001b[0;36mleer_parque\u001b[0;34m(nombre_archivo)\u001b[0m\n\u001b[1;32m     13\u001b[0m         arboles\u001b[39m.\u001b[39mappend(record)\n\u001b[1;32m     14\u001b[0m \u001b[39m#print(arboles)   \u001b[39;00m\n\u001b[0;32m---> 15\u001b[0m parques \u001b[39m=\u001b[39m arboles[\u001b[39m'\u001b[39;49m\u001b[39mespacio_ve\u001b[39;49m\u001b[39m'\u001b[39;49m]\n\u001b[1;32m     17\u001b[0m \u001b[39mreturn\u001b[39;00m parques\n",
      "\u001b[0;31mTypeError\u001b[0m: list indices must be integers or slices, not str"
     ]
    }
   ],
   "source": [
    "import csv\n",
    "\n",
    "def leer_parque(nombre_archivo): #, parque):\n",
    "    arboles = []\n",
    "    with open(nombre_archivo, 'rt') as f:\n",
    "        rows = csv.reader(f)\n",
    "        headers = next(rows)     \n",
    "               \n",
    "        for row in rows:\n",
    "            record = dict(zip(headers,row))\n",
    "            #list_of_rows = list(row)    \n",
    "            \n",
    "            arboles.append(record)\n",
    "    #print(arboles)   \n",
    "    parques = arboles['espacio_ve']\n",
    "            \n",
    "    return parques\n",
    "            \n",
    "            \n",
    "parque = leer_parque('arbolado-en-espacios-verdes.csv') #'DE LAS VICTORIAS')  \n",
    "\n",
    "# REVISAR, Me confunde como ubicar una fila de entradas a partir del input de una sola entrada (que es lo que pide el ej) en una __lista__ de dicts\n",
    "\n",
    "print(parque)"
   ]
  }
 ],
 "metadata": {
  "kernelspec": {
   "display_name": "Python 3.10.8 64-bit",
   "language": "python",
   "name": "python3"
  },
  "language_info": {
   "codemirror_mode": {
    "name": "ipython",
    "version": 3
   },
   "file_extension": ".py",
   "mimetype": "text/x-python",
   "name": "python",
   "nbconvert_exporter": "python",
   "pygments_lexer": "ipython3",
   "version": "3.10.8"
  },
  "orig_nbformat": 4,
  "vscode": {
   "interpreter": {
    "hash": "e7370f93d1d0cde622a1f8e1c04877d8463912d04d973331ad4851f04de6915a"
   }
  }
 },
 "nbformat": 4,
 "nbformat_minor": 2
}
