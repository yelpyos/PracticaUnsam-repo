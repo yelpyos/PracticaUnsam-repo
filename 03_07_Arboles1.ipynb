{
 "cells": [
  {
   "cell_type": "code",
   "execution_count": null,
   "metadata": {},
   "outputs": [],
   "source": [
    "def nombre(pelo):\n",
    "    with \n",
    "    \n",
    "    \"\"\"\n",
    "    Purpose: evaluate pelo\n",
    "    \n",
    "    \"\"\"\n",
    "    \n",
    "# end def"
   ]
  }
 ],
 "metadata": {
  "language_info": {
   "name": "python"
  },
  "orig_nbformat": 4
 },
 "nbformat": 4,
 "nbformat_minor": 2
}
