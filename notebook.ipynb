{
 "cells": [
  {
   "cell_type": "code",
   "execution_count": 3,
   "metadata": {},
   "outputs": [
    {
     "data": {
      "text/plain": [
       "'nombre,cajones,precio\\n'"
      ]
     },
     "execution_count": 3,
     "metadata": {},
     "output_type": "execute_result"
    }
   ],
   "source": [
    "f = open('camion.csv', 'rt') # ej 2.1\n",
    "headers = next(f)\n",
    "headers"
   ]
  },
  {
   "cell_type": "code",
   "execution_count": 4,
   "metadata": {},
   "outputs": [
    {
     "data": {
      "text/plain": [
       "['nombre', 'cajones', 'precio\\n']"
      ]
     },
     "execution_count": 4,
     "metadata": {},
     "output_type": "execute_result"
    }
   ],
   "source": [
    "f.close() \n",
    "f = open('camion.csv', 'rt')\n",
    "headers = next(f).split(',')\n",
    "headers"
   ]
  },
  {
   "cell_type": "code",
   "execution_count": 5,
   "metadata": {},
   "outputs": [
    {
     "name": "stdout",
     "output_type": "stream",
     "text": [
      "['Lima', '100', '32.2\\n']\n",
      "['Naranja', '50', '91.1\\n']\n",
      "['Caqui', '150', '103.44\\n']\n",
      "['Mandarina', '200', '51.23\\n']\n",
      "['Durazno', '95', '40.37\\n']\n",
      "['Mandarina', '50', '65.1\\n']\n",
      "['Naranja', '100', '70.44\\n']\n"
     ]
    }
   ],
   "source": [
    "for line in f:\n",
    "    row = line.split(',')\n",
    "    print(row)"
   ]
  },
  {
   "cell_type": "code",
   "execution_count": 18,
   "metadata": {},
   "outputs": [
    {
     "name": "stdout",
     "output_type": "stream",
     "text": [
      "['Lima', '100', '32.2\\n']\n",
      "['Naranja', '50', '91.1\\n']\n",
      "['Caqui', '150', '103.44\\n']\n",
      "['Mandarina', '200', '51.23\\n']\n",
      "['Durazno', '95', '40.37\\n']\n",
      "['Mandarina', '50', '65.1\\n']\n",
      "['Naranja', '100', '70.44\\n']\n",
      "[['Naranja', '100', '70.44\\n']]\n"
     ]
    }
   ],
   "source": [
    "f.close()       # ej 2.2\n",
    "\n",
    "import numpy as np\n",
    "f = open('camion.csv', 'rt')\n",
    "headers = next(f)\n",
    "matrix = []\n",
    "for line in f:\n",
    "    row = line.split(',')\n",
    "    print(row)\n",
    "matrix.append(row)\n",
    "print(matrix)\n",
    "\n",
    "#sum_ = np.sum(row,axis=1)\n",
    "#print(sum_)"
   ]
  }
 ],
 "metadata": {
  "kernelspec": {
   "display_name": "Python 3.10.5 64-bit",
   "language": "python",
   "name": "python3"
  },
  "language_info": {
   "codemirror_mode": {
    "name": "ipython",
    "version": 3
   },
   "file_extension": ".py",
   "mimetype": "text/x-python",
   "name": "python",
   "nbconvert_exporter": "python",
   "pygments_lexer": "ipython3",
   "version": "3.10.6"
  },
  "orig_nbformat": 4,
  "vscode": {
   "interpreter": {
    "hash": "e7370f93d1d0cde622a1f8e1c04877d8463912d04d973331ad4851f04de6915a"
   }
  }
 },
 "nbformat": 4,
 "nbformat_minor": 2
}
